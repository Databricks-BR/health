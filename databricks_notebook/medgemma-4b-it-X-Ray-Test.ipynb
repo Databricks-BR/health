{
 "cells": [
  {
   "cell_type": "markdown",
   "metadata": {
    "application/vnd.databricks.v1+cell": {
     "cellMetadata": {
      "byteLimit": 2048000,
      "rowLimit": 10000
     },
     "inputWidgets": {},
     "nuid": "c8161b95-f424-4ef6-be92-3e5eea4bd491",
     "showTitle": false,
     "tableResultSettingsMap": {},
     "title": ""
    }
   },
   "source": [
    "<img src=\"https://raw.githubusercontent.com/Databricks-BR/health/main/image/head_notebook.png\" width=\"1000px\">"
   ]
  },
  {
   "cell_type": "markdown",
   "metadata": {
    "application/vnd.databricks.v1+cell": {
     "cellMetadata": {},
     "inputWidgets": {},
     "nuid": "bf3b6019-edb5-4a19-9feb-2b6f34553a17",
     "showTitle": false,
     "tableResultSettingsMap": {},
     "title": ""
    }
   },
   "source": [
    "##### Descrição e Objetivos\n",
    "\n",
    "Este notebook utiliza o projeto Open Source **MedGemma** para avalição de imagens médicas, como exames de Raio-X. O objetivo é demonstrar a capacidade do modelo em interpretar e fornecer descrições detalhadas de imagens médicas (laudagem), auxiliando profissionais de saúde na análise e de diagnóstico.\n",
    "\n",
    "##### Referências:\n",
    "\n",
    "* [GitHub - MedGemma](https://github.com/google-health/medgemma)\n",
    "* [GitHub - MedGemma - notebook Hugging Face](https://github.com/google-health/medgemma/blob/main/notebooks/quick_start_with_hugging_face.ipynb)\n",
    "* [Youtube - Google MedGemma - Medical Text and Image Comprehension](https://www.youtube.com/watch?v=Mdr4EVhr6oo)\n",
    "* [MedGemma - Documentação](https://developers.google.com/health-ai-developer-foundations/medgemma)\n",
    "* [MedGemma - huggingface/medgemma-4b-pt](https://huggingface.co/google/medgemma-4b-pt)"
   ]
  },
  {
   "cell_type": "markdown",
   "metadata": {
    "application/vnd.databricks.v1+cell": {
     "cellMetadata": {},
     "inputWidgets": {},
     "nuid": "d909f025-a881-4260-a893-e5030dcadb19",
     "showTitle": false,
     "tableResultSettingsMap": {},
     "title": ""
    }
   },
   "source": [
    "##### Controle de Versão do Código\n",
    "\n",
    "| versão | data | autor | e-mail | alterações |\n",
    "| --- | --- | --- | --- | --- |\n",
    "| 1.0 | 30-MAI-2025 | Vinicius Fialho | vinicius.fialho@databricks.com | Primeira versão  |\n",
    "| 1.1 | 30-MAI-2025 | Luis Assunção | luis.assuncao@databricks.com | Revisão  |"
   ]
  },
  {
   "cell_type": "markdown",
   "metadata": {
    "application/vnd.databricks.v1+cell": {
     "cellMetadata": {},
     "inputWidgets": {},
     "nuid": "fd18952c-064d-4e12-bbfd-5d65d8222975",
     "showTitle": false,
     "tableResultSettingsMap": {},
     "title": ""
    }
   },
   "source": [
    "##### Descrição do Cluster\n",
    "\n",
    "Para rodar a demo (em DEV), utilizamos um single cluster com as seguintes configurações.\n",
    "\n",
    "| Versão do Databricks Runtime | Tipo de Instância |\n",
    "| --- | --- |\n",
    "| 14.3 LTS ML | i3.xlarge |"
   ]
  },
  {
   "cell_type": "code",
   "execution_count": 0,
   "metadata": {
    "application/vnd.databricks.v1+cell": {
     "cellMetadata": {
      "byteLimit": 2048000,
      "rowLimit": 10000
     },
     "inputWidgets": {},
     "nuid": "54dc4df8-c187-499e-9a4d-fff269b08b4e",
     "showTitle": true,
     "tableResultSettingsMap": {},
     "title": "Instalar e atualizar as bibliotecas necessárias"
    },
    "jupyter": {
     "outputs_hidden": true
    }
   },
   "outputs": [],
   "source": [
    "!pip install -U transformers torch torchvision accelerate\n",
    "!pip install --upgrade \"typing_extensions>=4.5\" --force-reinstall\n",
    "\n",
    "dbutils.library.restartPython()"
   ]
  },
  {
   "cell_type": "markdown",
   "metadata": {
    "application/vnd.databricks.v1+cell": {
     "cellMetadata": {
      "byteLimit": 2048000,
      "rowLimit": 10000
     },
     "inputWidgets": {},
     "nuid": "4ce0e517-21ab-4a83-845b-3dd2ce7a3890",
     "showTitle": false,
     "tableResultSettingsMap": {},
     "title": ""
    }
   },
   "source": [
    "<img src=\"https://raw.githubusercontent.com/Databricks-BR/health/main/image/logo_hugging_face.png\" width=\"300px\">"
   ]
  },
  {
   "cell_type": "markdown",
   "metadata": {
    "application/vnd.databricks.v1+cell": {
     "cellMetadata": {},
     "inputWidgets": {},
     "nuid": "030ceb89-a1eb-43dd-b440-5f05f9cd1e76",
     "showTitle": false,
     "tableResultSettingsMap": {},
     "title": ""
    }
   },
   "source": [
    "O projeto MedGemma está disponível no HuggingFace, uma plataforma que hospeda diferentes modelos de machine learning e permite fácil acesso e compartilhamento de modelos treinados.\n",
    "\n",
    "Para rodar o modelo, será necessário criar uma conta no [HuggingFace](https://huggingface.co/), vincular a conta ao projeto do [MedGemma](https://huggingface.co/google/medgemma-4b-it) clicando em \"Acknowledge license\" e gerar um token nas configurações de conta (Settings > Access Tokens > Create new token).\n",
    "\n",
    "Após isso, basta colar o valor do token no widget que aparecerá após rodar a célula a seguir."
   ]
  },
  {
   "cell_type": "code",
   "execution_count": 0,
   "metadata": {
    "application/vnd.databricks.v1+cell": {
     "cellMetadata": {
      "byteLimit": 2048000,
      "rowLimit": 10000
     },
     "inputWidgets": {},
     "nuid": "cfccccf2-0711-4e08-8eac-3dc9e6bc8d98",
     "showTitle": true,
     "tableResultSettingsMap": {},
     "title": "Hugging Face Authentication Setup"
    }
   },
   "outputs": [],
   "source": [
    "# Configurar autenticação no Hugging Face\n",
    "# Especificação direta do token \n",
    "hf_token = \"xxxxx-<COLOQUE-AQUI-O-SEU_TOKEN-DO-HUGGINGFACE>-xxxx\"\n",
    "\n",
    "# Login no Hugging Face\n",
    "from huggingface_hub import login\n",
    "if hf_token:\n",
    "    login(token=hf_token)"
   ]
  },
  {
   "cell_type": "markdown",
   "metadata": {
    "application/vnd.databricks.v1+cell": {
     "cellMetadata": {
      "byteLimit": 2048000,
      "rowLimit": 10000
     },
     "inputWidgets": {},
     "nuid": "a9effa63-d1f2-4091-83c7-b331210d91a6",
     "showTitle": false,
     "tableResultSettingsMap": {},
     "title": ""
    }
   },
   "source": [
    "<img src=\"https://raw.githubusercontent.com/Databricks-BR/health/main/image/logo_medgemma.png\" width=\"400px\">"
   ]
  },
  {
   "cell_type": "markdown",
   "metadata": {
    "application/vnd.databricks.v1+cell": {
     "cellMetadata": {
      "byteLimit": 2048000,
      "rowLimit": 10000
     },
     "inputWidgets": {},
     "nuid": "fe1f05ad-b6d0-44ea-892b-bd7fccfe1a90",
     "showTitle": false,
     "tableResultSettingsMap": {},
     "title": ""
    }
   },
   "source": [
    "A coleção MedGemma contém os modelos abertos do Google mais capazes para compreensão de texto e imagem médica, construídos no Gemma 3. Os desenvolvedores podem usar o MedGemma para acelerar a construção de aplicações de IA voltadas para a área da saúde. O MedGemma vem em duas variantes: uma versão multimodal de 4B e uma versão somente texto de 27B.\n",
    "\n",
    "Para detalhes sobre como usar o modelo e como ele foi treinado, veja o [MedGemma Model Card](https://developers.google.com/health-ai-developer-foundations/medgemma/model-card).\n",
    "\n",
    "Para mais informações, veja a [Documentação do MedGemma](https://developers.google.com/health-ai-developer-foundations/medgemma)."
   ]
  },
  {
   "cell_type": "code",
   "execution_count": 0,
   "metadata": {
    "application/vnd.databricks.v1+cell": {
     "cellMetadata": {
      "byteLimit": 2048000,
      "rowLimit": 10000
     },
     "inputWidgets": {},
     "nuid": "a6f2917d-8b2f-455c-bd9d-917d907f3354",
     "showTitle": true,
     "tableResultSettingsMap": {},
     "title": "Iniciando Image-to-Text Model Pipeline"
    },
    "jupyter": {
     "outputs_hidden": true
    }
   },
   "outputs": [],
   "source": [
    "from transformers import AutoModelForImageTextToText, pipeline\n",
    "from PIL import Image\n",
    "import requests\n",
    "import torch\n",
    "from IPython.display import Image as IPImage, display, Markdown\n",
    "\n",
    "pipe = pipeline(\n",
    "    \"image-text-to-text\",\n",
    "    model=\"google/medgemma-4b-it\",\n",
    "    torch_dtype=torch.bfloat16,\n",
    "    device=\"cpu\" \n",
    ")"
   ]
  },
  {
   "cell_type": "code",
   "execution_count": 0,
   "metadata": {
    "application/vnd.databricks.v1+cell": {
     "cellMetadata": {
      "byteLimit": 2048000,
      "rowLimit": 10000
     },
     "inputWidgets": {},
     "nuid": "3f8e48e9-39e7-4a97-b815-3d6a06fc83c9",
     "showTitle": false,
     "tableResultSettingsMap": {},
     "title": ""
    }
   },
   "outputs": [],
   "source": [
    "# IMAGEM 01\n",
    "# Atribuição da imagem: Stillwaterising, CC0, via Wikimedia Commons\n",
    "image_url = (\n",
    "    \"https://upload.wikimedia.org/wikipedia/commons/c/c8/Chest_Xray_PA_3-8-2010.png\"\n",
    ")\n",
    "image = Image.open(\n",
    "    requests.get(image_url, headers={\"User-Agent\": \"example\"}, stream=True).raw\n",
    ")\n",
    "prompt = \"Describe this X-ray\"\n",
    "\n",
    "messages = [\n",
    "    {\n",
    "        \"role\": \"system\",\n",
    "        \"content\": [{\"type\": \"text\", \"text\": \"You are an expert radiologist.\"}],\n",
    "    },\n",
    "    {\n",
    "        \"role\": \"user\",\n",
    "        \"content\": [\n",
    "            {\"type\": \"text\", \"text\": prompt},\n",
    "            {\"type\": \"image\", \"image\": image},\n",
    "        ],\n",
    "    },\n",
    "]\n",
    "\n",
    "# Gerar resposta\n",
    "output = pipe(text=messages, max_new_tokens=450)\n",
    "analysis_result = output[0][\"generated_text\"][-1][\"content\"]\n",
    "\n",
    "display(Markdown(f\"\\n\\n---\\n\\n**[ User ]**\\n\\n {prompt}\"))\n",
    "display(IPImage(url=image_url, height=300))\n",
    "display(Markdown(f\"\\n\\n---\\n\\n**[ MedGemma ]**\\n\\n {analysis_result}\"))"
   ]
  },
  {
   "cell_type": "code",
   "execution_count": 0,
   "metadata": {
    "application/vnd.databricks.v1+cell": {
     "cellMetadata": {
      "byteLimit": 2048000,
      "rowLimit": 10000
     },
     "inputWidgets": {},
     "nuid": "fc897638-6e29-4c85-ac4e-4abac956ba86",
     "showTitle": false,
     "tableResultSettingsMap": {},
     "title": ""
    }
   },
   "outputs": [],
   "source": [
    "# IMAGEM 02\n",
    "# Atribuição da imagem: Raio-X do braço de um paciente\n",
    "image_url = (\n",
    "    \"https://raw.githubusercontent.com/Databricks-BR/health/main/image/wolverine.jpg\"\n",
    ")\n",
    "image = Image.open(\n",
    "    requests.get(image_url, headers={\"User-Agent\": \"example\"}, stream=True).raw\n",
    ")\n",
    "prompt = \"Describe this X-ray\"\n",
    "\n",
    "messages = [\n",
    "    {\n",
    "        \"role\": \"system\",\n",
    "        \"content\": [{\"type\": \"text\", \"text\": \"You are an expert radiologist.\"}],\n",
    "    },\n",
    "    {\n",
    "        \"role\": \"user\",\n",
    "        \"content\": [\n",
    "            {\"type\": \"text\", \"text\": prompt},\n",
    "            {\"type\": \"image\", \"image\": image},\n",
    "        ],\n",
    "    },\n",
    "]\n",
    "\n",
    "# Gerar resposta\n",
    "output = pipe(text=messages, max_new_tokens=450)\n",
    "analysis_result = output[0][\"generated_text\"][-1][\"content\"]\n",
    "\n",
    "display(Markdown(f\"\\n\\n---\\n\\n**[ User ]**\\n\\n {prompt}\"))\n",
    "display(IPImage(url=image_url, height=300))\n",
    "display(Markdown(f\"\\n\\n---\\n\\n**[ MedGemma ]**\\n\\n {analysis_result}\"))"
   ]
  }
 ],
 "metadata": {
  "application/vnd.databricks.v1+notebook": {
   "computePreferences": null,
   "dashboards": [],
   "environmentMetadata": {
    "base_environment": "",
    "environment_version": "2"
   },
   "inputWidgetPreferences": null,
   "language": "python",
   "notebookMetadata": {
    "mostRecentlyExecutedCommandWithImplicitDF": {
     "commandId": 2408509664649415,
     "dataframes": [
      "_sqldf"
     ]
    },
    "pythonIndentUnit": 2
   },
   "notebookName": "medgemma-4b-it-X-Ray-Test",
   "widgets": {}
  },
  "language_info": {
   "name": "python"
  }
 },
 "nbformat": 4,
 "nbformat_minor": 0
}
