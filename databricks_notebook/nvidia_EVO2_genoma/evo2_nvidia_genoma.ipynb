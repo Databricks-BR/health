{
 "cells": [
  {
   "cell_type": "markdown",
   "metadata": {
    "application/vnd.databricks.v1+cell": {
     "cellMetadata": {},
     "inputWidgets": {},
     "nuid": "a3e1f1e2-1a87-4b5c-b9e0-afab03e1e258",
     "showTitle": false,
     "tableResultSettingsMap": {},
     "title": ""
    }
   },
   "source": [
    "%md\n",
    "<img src=\"https://raw.githubusercontent.com/Databricks-BR/health/main/image/head_notebook.png\" width=\"1000px\">"
   ]
  },
  {
   "cell_type": "markdown",
   "metadata": {
    "application/vnd.databricks.v1+cell": {
     "cellMetadata": {},
     "inputWidgets": {},
     "nuid": "e6802adc-1675-486e-90dc-ea015378c9ae",
     "showTitle": false,
     "tableResultSettingsMap": {},
     "title": ""
    }
   },
   "source": [
    "<img src=\"https://raw.githubusercontent.com/ArcInstitute/evo2/refs/heads/main/evo2.jpg\" width=\"500px\">\n",
    "\n"
   ]
  },
  {
   "cell_type": "markdown",
   "metadata": {
    "application/vnd.databricks.v1+cell": {
     "cellMetadata": {},
     "inputWidgets": {},
     "nuid": "bcc8d1fc-a043-4808-8146-95aee148680b",
     "showTitle": false,
     "tableResultSettingsMap": {},
     "title": ""
    }
   },
   "source": [
    "##### Descrição e Objetivos\n",
    "\n",
    "Este projeto explora o uso de modelos avançados de inteligência artificial para análise e predição de sequências de DNA e proteínas. O objetivo principal é demonstrar a integração de tecnologias modernas como o **evo2-40b** (da NVIDIA, um modelo de fundação biológica capaz de integrar informações ao longo de longas sequências genômicas, mantendo sensibilidade a alterações de nucleotídeos individuais e gerando uma potencial sequência de DNA), o **esmfold** (da NVIDIA, para predição da estrutura 3D de proteínas a partir de sequências de aminoácidos) e ferramentas de **visualização 3D** como graphein e plotly.\n",
    "\n",
    "##### Referências\n",
    "\n",
    "* [Evo2 Blog](https://arcinstitute.org/news/blog/evo2)\n",
    "* [GitHub - Evo2](https://github.com/ArcInstitute/evo2)\n",
    "* [Evo2-40b API](https://build.nvidia.com/arc/evo2-40b?snippet_tab=Try)\n",
    "* [esmfold API](https://build.nvidia.com/meta/esmfold?snippet_tab=Python)\n",
    "* [Trabalhando com arquivos .pdb em Python](https://medium.com/@jgbrasier/working-with-pdb-files-in-python-7b538ee1b5e4)\n",
    "* https://developer.nvidia.com/blog/accelerating-drug-discovery-at-receptor-ai-with-nvidia-bionemo-cloud-apis\n",
    "* https://github.com/NVIDIA/bionemo-framework\n",
    "* https://github.com/NVIDIA/bionemo-examples/tree/main/examples/nims\n",
    "* https://github.com/NVIDIA/bionemo-examples/blob/main/examples/nims/alphafold2/AlphaFold2-NIM-example.ipynb\n",
    "* https://developer.nvidia.com/blog/understanding-the-language-of-lifes-biomolecules-across-evolution-at-a-new-scale-with-evo-2/"
   ]
  },
  {
   "cell_type": "markdown",
   "metadata": {
    "application/vnd.databricks.v1+cell": {
     "cellMetadata": {},
     "inputWidgets": {},
     "nuid": "c79e9219-48d3-4182-a8aa-457a40cc16cc",
     "showTitle": false,
     "tableResultSettingsMap": {},
     "title": ""
    }
   },
   "source": [
    "##### Controle de Versão do Código\n",
    "\n",
    "| versão | data | autor | e-mail | alterações |\n",
    "| --- | --- | --- | --- | --- |\n",
    "| 1.0 | 15-JUN-2025 | Bruna Robledo<br>Luis Assunção<br>Vinicius Fialho | bruna.robledo@databricks.com<br>luis.assuncao@databricks.com<br>vinicius.fialho@databricks.com | Primeira versão  |"
   ]
  },
  {
   "cell_type": "markdown",
   "metadata": {
    "application/vnd.databricks.v1+cell": {
     "cellMetadata": {},
     "inputWidgets": {},
     "nuid": "bac6af1b-1256-445e-8c56-8148b2972b1d",
     "showTitle": false,
     "tableResultSettingsMap": {},
     "title": ""
    }
   },
   "source": [
    "##### Descrição do Cluster\n",
    "\n",
    "Toda a demo pode ser executada utilizando Serverless ou um tipo de instância de sua pereferência."
   ]
  },
  {
   "cell_type": "code",
   "execution_count": 0,
   "metadata": {
    "application/vnd.databricks.v1+cell": {
     "cellMetadata": {
      "byteLimit": 2048000,
      "rowLimit": 10000
     },
     "inputWidgets": {},
     "nuid": "57ea36ff-086f-4c45-bdaa-464c5609c76c",
     "showTitle": true,
     "tableResultSettingsMap": {},
     "title": "Importar as dependências"
    }
   },
   "outputs": [],
   "source": [
    "import requests\n",
    "import os\n",
    "import json\n",
    "from pathlib import Path"
   ]
  },
  {
   "cell_type": "markdown",
   "metadata": {
    "application/vnd.databricks.v1+cell": {
     "cellMetadata": {},
     "inputWidgets": {},
     "nuid": "279bd3c1-a616-404c-a7a4-afc93be4783f",
     "showTitle": false,
     "tableResultSettingsMap": {},
     "title": ""
    }
   },
   "source": [
    "### Gera uma potencial sequência de DNA"
   ]
  },
  {
   "cell_type": "markdown",
   "metadata": {
    "application/vnd.databricks.v1+cell": {
     "cellMetadata": {},
     "inputWidgets": {},
     "nuid": "45ceb0e4-919d-4937-ada9-bd09bbd71dc0",
     "showTitle": false,
     "tableResultSettingsMap": {},
     "title": ""
    }
   },
   "source": [
    "Para conseguir uma chave para testar a API, entre no [site da NVIDIA](https://build.nvidia.com/), crie a sua conta e faça login. Após isso, clique em Get API Key e salve o valor, cole no campo \"key\" na célula a seguir.\n",
    "\n",
    "Para acessar a página específica do Evo2, entre [aqui](https://build.nvidia.com/arc/evo2-40b)."
   ]
  },
  {
   "cell_type": "code",
   "execution_count": 0,
   "metadata": {
    "application/vnd.databricks.v1+cell": {
     "cellMetadata": {
      "byteLimit": 2048000,
      "rowLimit": 10000
     },
     "inputWidgets": {},
     "nuid": "a2e5bcbc-c329-4c0e-a7de-17d8ae0d444f",
     "showTitle": false,
     "tableResultSettingsMap": {},
     "title": ""
    }
   },
   "outputs": [],
   "source": [
    "key = \"INSIRA-AQUI-A-SUA-CHAVE-NVIDIA-PARA-TESTAR\"\n",
    "sequence_input = \"GAATAGGAACAGCTCCGGTCTACAGCTCCCAGCGTGAGCGACGCAGAAGACGGTGATTTCTGCATTTCCATCTGAGGTACCGGGTTCATCTCACTAGGGAGTGCCAGACAGTGGGCGCAGGCCAGTGTGTGTGCGCACCGTGCGCGAGCCGAAGCAGGGCGAGGCATTGCCTCACCTGGGAAGCGCAAGGGGTCAGGGAGTTCCCTTTCCGAGTCAAAGAAAGGGGTGATGGACGCACCTGGAAAATCGGGTCACTCCCACCCGAATATTGCGCTTTTCAGACCGGCTTAAGAAACGGCGCACCACGAGACTATATCCCACACCTGGCTCAGAGGGTCCTACGCCCACGGAATC\"\n",
    "\n",
    "r = requests.post(\n",
    "    url=os.getenv(\n",
    "        \"URL\", \"https://health.api.nvidia.com/v1/biology/arc/evo2-40b/generate\"\n",
    "    ),\n",
    "    headers={\"Authorization\": f\"Bearer {key}\"},  # Chave da API para consulta\n",
    "    json={\n",
    "        # Definir a sequência de DNA em que a predição será feita\n",
    "        \"sequence\": sequence_input,\n",
    "        \"num_tokens\": 102,  # Quantidade de tokens que queremos que seja gerada a partir da sequência fornecida\n",
    "        \"top_k\": 4,  # Quantidade de tokens com maior probabilidade serão considerados na geração do modelo; escolhe entre as K melhores opções\n",
    "        \"top_p\": 1,  # Controla a diversidade das previsões considerando apenas os tokens mais prováveis até atingir uma probabilidade acumulada especificada, com top_p = 1 todos os tokens são considerados sem nenhuma limitação\n",
    "        \"temperature\": 0.7,  # Controla a aleatoriedade das escolhas do modelo. Valores baixos geram respostas mais previsíveis; valores altos tornam as respostas mais variadas e criativas\n",
    "        \"enable_sampled_probs\": True,\n",
    "    },\n",
    ")\n",
    "\n",
    "if \"application/json\" in r.headers.get(\"Content-Type\", \"\"):\n",
    "    print(r, \"Saving to output.json:\\n\", r.text[:200], \"...\")\n",
    "    Path(\"output.json\").write_text(r.text)\n",
    "elif \"application/zip\" in r.headers.get(\"Content-Type\", \"\"):\n",
    "    print(r, \"Saving large response to data.zip\")\n",
    "    Path(\"data.zip\").write_bytes(r.content)\n",
    "else:\n",
    "    print(r, r.headers, r.content)"
   ]
  },
  {
   "cell_type": "markdown",
   "metadata": {
    "application/vnd.databricks.v1+cell": {
     "cellMetadata": {},
     "inputWidgets": {},
     "nuid": "53da6b7a-82f2-49f6-a6e8-92391e99aba0",
     "showTitle": false,
     "tableResultSettingsMap": {},
     "title": ""
    }
   },
   "source": [
    "### Visualize a sequência fornecida junto da sequência gerada"
   ]
  },
  {
   "cell_type": "code",
   "execution_count": 0,
   "metadata": {
    "application/vnd.databricks.v1+cell": {
     "cellMetadata": {
      "byteLimit": 2048000,
      "rowLimit": 10000
     },
     "inputWidgets": {},
     "nuid": "07c47bc9-5f22-47f8-8d53-2661b33d9eca",
     "showTitle": false,
     "tableResultSettingsMap": {},
     "title": ""
    }
   },
   "outputs": [],
   "source": [
    "import plotly.graph_objects as go\n",
    "\n",
    "# Lê o arquivo JSON\n",
    "with open(\"output.json\") as f:\n",
    "    output_data = json.load(f)\n",
    "\n",
    "# Extrai a sequência de DNA e as probabilidades a partir da previsão gerada\n",
    "sequence = output_data[\"sequence\"]\n",
    "probabilities = output_data[\"sampled_probs\"]\n",
    "\n",
    "# Configuração\n",
    "LINE_LENGTH = 30  # Caracteres por linha - ajustar conforme necessário\n",
    "NUCLEOTIDE_OFFSET = 0.08  # Valor positivo para colocar as letras acima da linha\n",
    "FONT_SIZE = 12\n",
    "\n",
    "# Define o valor hexadecimal das cores\n",
    "HEX_GREEN = \"#2DC468\"\n",
    "HEX_BLUE = \"#2D68C4\"\n",
    "HEX_RED = \"#C42D2D\"\n",
    "\n",
    "# Combina a sequência de DNA de input com a sequência gerada\n",
    "full_sequence = sequence_input + sequence\n",
    "full_probabilities = [None] * len(sequence_input) + probabilities\n",
    "\n",
    "# Divide a sequência em linhas\n",
    "lines = []\n",
    "start = 0\n",
    "while start < len(full_sequence):\n",
    "    end = min(start + LINE_LENGTH, len(full_sequence))\n",
    "    lines.append((full_sequence[start:end], full_probabilities[start:end], start))\n",
    "    start = end\n",
    "\n",
    "fig = go.Figure()\n",
    "\n",
    "# Plota cada linha\n",
    "for line_idx, (line_seq, line_probs, offset) in enumerate(lines):\n",
    "    y_offset = -line_idx * 0.5  # Cada nova linha vai abaixo da anterior\n",
    "\n",
    "    # Plota os segmentos da linha\n",
    "    for i in range(len(line_seq) - 1):\n",
    "        if line_probs[i] is None and line_probs[i + 1] is None:\n",
    "            # Coloca a sequência de input sempre com a cor verde\n",
    "            color = HEX_GREEN\n",
    "            hoverinfo = \"skip\"\n",
    "            text = \"\"\n",
    "        elif line_probs[i] is None or line_probs[i + 1] is None:\n",
    "            # Faz a transição entre a sequência de input e a sequência gerada\n",
    "            if line_probs[i] is None:\n",
    "                avg_prob = line_probs[i + 1]\n",
    "            else:\n",
    "                avg_prob = line_probs[i]\n",
    "            color = HEX_BLUE if avg_prob >= 0.4 else HEX_RED\n",
    "            hoverinfo = \"text\"\n",
    "            text = f\"Indexes: {offset+i}-{offset+i+1}<br>Prob: {avg_prob:.2f}\"\n",
    "        else:\n",
    "            avg_prob = (line_probs[i] + line_probs[i + 1]) / 2\n",
    "            color = HEX_BLUE if avg_prob >= 0.4 else HEX_RED\n",
    "            hoverinfo = \"text\"\n",
    "            text = f\"Indexes: {offset+i}-{offset+i+1}<br>Probs: {line_probs[i]:.2f}, {line_probs[i+1]:.2f}\"\n",
    "\n",
    "        fig.add_trace(\n",
    "            go.Scatter(\n",
    "                x=[i, i + 1],\n",
    "                y=[y_offset, y_offset],\n",
    "                mode=\"lines\",\n",
    "                line=dict(color=color, width=16),\n",
    "                hoverinfo=hoverinfo,\n",
    "                text=text,\n",
    "                showlegend=False,\n",
    "            )\n",
    "        )\n",
    "\n",
    "    # Coloca os valores da sequência de DNA acina de cada linha\n",
    "    for i, nuc in enumerate(line_seq):\n",
    "        if i < len(line_probs):\n",
    "            if line_probs[i] is None:\n",
    "                letter_color = HEX_GREEN  # Verde para sequence_input\n",
    "            else:\n",
    "                letter_color = HEX_BLUE if line_probs[i] >= 0.4 else HEX_RED\n",
    "        else:\n",
    "            letter_color = HEX_GREEN  # Verde como padrão caso não tenha probabilidade\n",
    "\n",
    "        fig.add_annotation(\n",
    "            x=i,\n",
    "            y=y_offset + NUCLEOTIDE_OFFSET,\n",
    "            text=nuc,\n",
    "            showarrow=False,\n",
    "            font=dict(size=FONT_SIZE, color=letter_color),\n",
    "            yanchor=\"bottom\",\n",
    "        )\n",
    "\n",
    "# Ajustes finais de layout\n",
    "fig.update_layout(\n",
    "    title={\n",
    "        \"text\": \"Sequência de DNA com Probabilidade da Previsão\",\n",
    "        \"x\": 0.5,\n",
    "        \"xanchor\": \"center\",\n",
    "    },\n",
    "    xaxis=dict(\n",
    "        tickmode=\"linear\",\n",
    "        tick0=0,\n",
    "        dtick=1,\n",
    "        showgrid=False,\n",
    "        range=[-0.5, LINE_LENGTH - 0.5],\n",
    "        showticklabels=False,\n",
    "    ),\n",
    "    yaxis=dict(visible=False),\n",
    "    hovermode=\"closest\",\n",
    "    margin=dict(t=60, b=40),\n",
    "    plot_bgcolor=\"white\",\n",
    "    height=200 + 50 * (len(lines) - 1),\n",
    ")\n",
    "\n",
    "fig.show()"
   ]
  },
  {
   "cell_type": "markdown",
   "metadata": {
    "application/vnd.databricks.v1+cell": {
     "cellMetadata": {},
     "inputWidgets": {},
     "nuid": "df08b781-777f-4d45-99ad-26e9d38fd1fb",
     "showTitle": false,
     "tableResultSettingsMap": {},
     "title": ""
    }
   },
   "source": [
    "### Utilize o esmfold (NVIDIA) para predizer a estrutura 3D\n",
    "O esmfold prediz a estrutura 3D de uma proteína a partir da sua sequência de aminoácidos."
   ]
  },
  {
   "cell_type": "code",
   "execution_count": 0,
   "metadata": {
    "application/vnd.databricks.v1+cell": {
     "cellMetadata": {
      "byteLimit": 2048000,
      "rowLimit": 10000
     },
     "inputWidgets": {},
     "nuid": "fbc5a2c9-30be-46cc-8971-1c6938ee1f75",
     "showTitle": false,
     "tableResultSettingsMap": {},
     "title": ""
    }
   },
   "outputs": [],
   "source": [
    "# Transforma a sequência em um formato .json\n",
    "invoke_url = \"https://health.api.nvidia.com/v1/biology/nvidia/esmfold\"\n",
    "\n",
    "headers = {\n",
    "    \"Authorization\": f\"Bearer {key}\",\n",
    "    \"Accept\": \"application/json\",\n",
    "}\n",
    "\n",
    "payload = {\n",
    "    \"sequence\": full_sequence\n",
    "}\n",
    "\n",
    "# re-use connections\n",
    "session = requests.Session()\n",
    "\n",
    "response = session.post(invoke_url, headers=headers, json=payload)\n",
    "\n",
    "response.raise_for_status()\n",
    "response_body = response.json()\n",
    "print(response_body)"
   ]
  },
  {
   "cell_type": "markdown",
   "metadata": {
    "application/vnd.databricks.v1+cell": {
     "cellMetadata": {},
     "inputWidgets": {},
     "nuid": "b2b7d11e-58ef-4a66-b557-af7180ab0df9",
     "showTitle": false,
     "tableResultSettingsMap": {},
     "title": ""
    }
   },
   "source": [
    "### Transforme toda a sequência em um arquivo .pdb\n",
    "\n",
    "Um arquivo PDB (Protein Data Bank) é um formato de arquivo padronizado baseado em texto que armazena dados estruturais tridimensionais (3D) de macromoléculas biológicas, principalmente proteínas e ácidos nucleicos, bem como seus complexos. Esses arquivos contêm as coordenadas atômicas, informações de ligações e outros detalhes relevantes das biomoléculas derivados de métodos experimentais.\n",
    "\n",
    "Com isso, conseguiremos utilizar bibliotecas para visualização 3D de toda a sequência gerada."
   ]
  },
  {
   "cell_type": "code",
   "execution_count": 0,
   "metadata": {
    "application/vnd.databricks.v1+cell": {
     "cellMetadata": {
      "byteLimit": 2048000,
      "rowLimit": 10000
     },
     "inputWidgets": {},
     "nuid": "a48bf5e2-9224-4d8d-a174-80360084690a",
     "showTitle": false,
     "tableResultSettingsMap": {},
     "title": ""
    }
   },
   "outputs": [],
   "source": [
    "# Extraindo o texto PDB (pegando o primeiro item da lista)\n",
    "pdb_text = response_body[\"pdbs\"][0]\n",
    "\n",
    "# Caminho para salvar o arquivo PDB\n",
    "output_dir = Path.cwd()\n",
    "output_path = os.path.join(output_dir, \"protein_structure.pdb\")\n",
    "\n",
    "# Criando o diretório se não existir\n",
    "os.makedirs(output_dir, exist_ok=True)\n",
    "\n",
    "# Salvando o arquivo PDB\n",
    "with open(output_path, \"w\") as f:\n",
    "    f.write(pdb_text)\n",
    "\n",
    "print(f\"Arquivo PDB salvo em: {output_path}\")"
   ]
  },
  {
   "cell_type": "markdown",
   "metadata": {
    "application/vnd.databricks.v1+cell": {
     "cellMetadata": {},
     "inputWidgets": {},
     "nuid": "459b9a22-321a-43dd-aa20-239b54322af3",
     "showTitle": false,
     "tableResultSettingsMap": {},
     "title": ""
    }
   },
   "source": [
    "## Gerando visualizações 3D com Plotly e Graphein"
   ]
  },
  {
   "cell_type": "markdown",
   "metadata": {
    "application/vnd.databricks.v1+cell": {
     "cellMetadata": {},
     "inputWidgets": {},
     "nuid": "40e791d4-43ae-48f8-beed-e62eccd02ba3",
     "showTitle": false,
     "tableResultSettingsMap": {},
     "title": ""
    }
   },
   "source": [
    "### Plotly"
   ]
  },
  {
   "cell_type": "code",
   "execution_count": 0,
   "metadata": {
    "application/vnd.databricks.v1+cell": {
     "cellMetadata": {
      "byteLimit": 2048000,
      "rowLimit": 10000
     },
     "inputWidgets": {},
     "nuid": "b724f968-d149-4ebf-8dde-c11ae9e478c3",
     "showTitle": false,
     "tableResultSettingsMap": {},
     "title": ""
    }
   },
   "outputs": [],
   "source": [
    "%pip install biopandas prody --upgrade"
   ]
  },
  {
   "cell_type": "code",
   "execution_count": 0,
   "metadata": {
    "application/vnd.databricks.v1+cell": {
     "cellMetadata": {
      "byteLimit": 2048000,
      "rowLimit": 10000
     },
     "inputWidgets": {},
     "nuid": "7edc70b6-44ea-44e8-aa17-c603c38bad52",
     "showTitle": false,
     "tableResultSettingsMap": {},
     "title": ""
    }
   },
   "outputs": [],
   "source": [
    "import pandas as pd\n",
    "from biopandas.pdb import PandasPdb\n",
    "from prody import parsePDBHeader\n",
    "from typing import Optional\n",
    "\n",
    "\n",
    "def read_pdb_to_dataframe(\n",
    "    pdb_path: Optional[str] = None,\n",
    "    model_index: int = 1,\n",
    "    parse_header: bool = True,\n",
    ") -> pd.DataFrame:\n",
    "    \"\"\"\n",
    "    Read a PDB file, and return a Pandas DataFrame containing the atomic coordinates and metadata.\n",
    "\n",
    "    Args:\n",
    "        pdb_path (str, optional): Path to a local PDB file to read. Defaults to None.\n",
    "        model_index (int, optional): Index of the model to extract from the PDB file, in case\n",
    "            it contains multiple models. Defaults to 1.\n",
    "        parse_header (bool, optional): Whether to parse the PDB header and extract metadata.\n",
    "            Defaults to True.\n",
    "\n",
    "    Returns:\n",
    "        pd.DataFrame: A DataFrame containing the atomic coordinates and metadata, with one row\n",
    "            per atom\n",
    "    \"\"\"\n",
    "    atomic_df = PandasPdb().read_pdb(pdb_path)\n",
    "    if parse_header:\n",
    "        header = parsePDBHeader(pdb_path)\n",
    "    else:\n",
    "        header = None\n",
    "    atomic_df = atomic_df.get_model(model_index)\n",
    "    if len(atomic_df.df[\"ATOM\"]) == 0:\n",
    "        raise ValueError(f\"No model found for index: {model_index}\")\n",
    "\n",
    "    return pd.concat([atomic_df.df[\"ATOM\"], atomic_df.df[\"HETATM\"]]), header"
   ]
  },
  {
   "cell_type": "code",
   "execution_count": 0,
   "metadata": {
    "application/vnd.databricks.v1+cell": {
     "cellMetadata": {
      "byteLimit": 2048000,
      "rowLimit": 10000
     },
     "inputWidgets": {},
     "nuid": "1e1afada-736c-4796-9895-8bcc36cbcde2",
     "showTitle": false,
     "tableResultSettingsMap": {},
     "title": ""
    }
   },
   "outputs": [],
   "source": [
    "df, df_header = read_pdb_to_dataframe(\"protein_structure.pdb\")\n",
    "df.head(10)"
   ]
  },
  {
   "cell_type": "code",
   "execution_count": 0,
   "metadata": {
    "application/vnd.databricks.v1+cell": {
     "cellMetadata": {
      "byteLimit": 2048000,
      "rowLimit": 10000
     },
     "inputWidgets": {},
     "nuid": "9800ff23-efcd-4526-b0be-e57691d78322",
     "showTitle": false,
     "tableResultSettingsMap": {},
     "title": ""
    }
   },
   "outputs": [],
   "source": [
    "%pip install pandas==2.3.0 --upgrade\n",
    "%pip install --upgrade plotly"
   ]
  },
  {
   "cell_type": "code",
   "execution_count": 0,
   "metadata": {
    "application/vnd.databricks.v1+cell": {
     "cellMetadata": {
      "byteLimit": 2048000,
      "rowLimit": 10000
     },
     "inputWidgets": {},
     "nuid": "71bbcb2f-121f-4d51-b471-f5854ecccbd3",
     "showTitle": false,
     "tableResultSettingsMap": {},
     "title": ""
    }
   },
   "outputs": [],
   "source": [
    "import plotly.express as px\n",
    "\n",
    "fig = px.scatter_3d(df, x=\"x_coord\", y=\"y_coord\", z=\"z_coord\", color=\"element_symbol\")\n",
    "fig.update_traces(marker_size=4)\n",
    "\n",
    "fig.show()"
   ]
  },
  {
   "cell_type": "markdown",
   "metadata": {
    "application/vnd.databricks.v1+cell": {
     "cellMetadata": {},
     "inputWidgets": {},
     "nuid": "d57b3f1d-a6e8-45c5-ab69-b0b44e320049",
     "showTitle": false,
     "tableResultSettingsMap": {},
     "title": ""
    }
   },
   "source": [
    "### Graphein"
   ]
  },
  {
   "cell_type": "code",
   "execution_count": 0,
   "metadata": {
    "application/vnd.databricks.v1+cell": {
     "cellMetadata": {
      "byteLimit": 2048000,
      "rowLimit": 10000
     },
     "inputWidgets": {},
     "nuid": "e4f4893a-7661-4fd9-986c-5404f46f94c1",
     "showTitle": false,
     "tableResultSettingsMap": {},
     "title": ""
    }
   },
   "outputs": [],
   "source": [
    "%pip install graphein\n",
    "%pip install biopandas prody --upgrade\n",
    "\n",
    "dbutils.library.restartPython()  # Restart Python to apply changes"
   ]
  },
  {
   "cell_type": "code",
   "execution_count": 0,
   "metadata": {
    "application/vnd.databricks.v1+cell": {
     "cellMetadata": {
      "byteLimit": 2048000,
      "rowLimit": 10000
     },
     "inputWidgets": {},
     "nuid": "e19e5f97-1c0f-46dc-a306-4ce418811eaa",
     "showTitle": false,
     "tableResultSettingsMap": {},
     "title": ""
    }
   },
   "outputs": [],
   "source": [
    "import pandas as pd\n",
    "from biopandas.pdb import PandasPdb\n",
    "from prody import parsePDBHeader\n",
    "from typing import Optional\n",
    "\n",
    "\n",
    "def read_pdb_to_dataframe(\n",
    "    pdb_path: Optional[str] = None,\n",
    "    model_index: int = 1,\n",
    "    parse_header: bool = True,\n",
    ") -> pd.DataFrame:\n",
    "    \"\"\"\n",
    "    Read a PDB file, and return a Pandas DataFrame containing the atomic coordinates and metadata.\n",
    "\n",
    "    Args:\n",
    "        pdb_path (str, optional): Path to a local PDB file to read. Defaults to None.\n",
    "        model_index (int, optional): Index of the model to extract from the PDB file, in case\n",
    "            it contains multiple models. Defaults to 1.\n",
    "        parse_header (bool, optional): Whether to parse the PDB header and extract metadata.\n",
    "            Defaults to True.\n",
    "\n",
    "    Returns:\n",
    "        pd.DataFrame: A DataFrame containing the atomic coordinates and metadata, with one row\n",
    "            per atom\n",
    "    \"\"\"\n",
    "    atomic_df = PandasPdb().read_pdb(pdb_path)\n",
    "    if parse_header:\n",
    "        header = parsePDBHeader(pdb_path)\n",
    "    else:\n",
    "        header = None\n",
    "    atomic_df = atomic_df.get_model(model_index)\n",
    "    if len(atomic_df.df[\"ATOM\"]) == 0:\n",
    "        raise ValueError(f\"No model found for index: {model_index}\")\n",
    "\n",
    "    return pd.concat([atomic_df.df[\"ATOM\"], atomic_df.df[\"HETATM\"]]), header"
   ]
  },
  {
   "cell_type": "code",
   "execution_count": 0,
   "metadata": {
    "application/vnd.databricks.v1+cell": {
     "cellMetadata": {
      "byteLimit": 2048000,
      "rowLimit": 10000
     },
     "inputWidgets": {},
     "nuid": "6552da46-9cfc-4eb3-b3e3-256dc197efc9",
     "showTitle": false,
     "tableResultSettingsMap": {},
     "title": ""
    }
   },
   "outputs": [],
   "source": [
    "df, df_header = read_pdb_to_dataframe(\"protein_structure.pdb\")\n",
    "df.head(10)"
   ]
  },
  {
   "cell_type": "code",
   "execution_count": 0,
   "metadata": {
    "application/vnd.databricks.v1+cell": {
     "cellMetadata": {
      "byteLimit": 2048000,
      "rowLimit": 10000
     },
     "inputWidgets": {},
     "nuid": "68f8a999-96a1-48a1-a651-7f34eee1eae6",
     "showTitle": false,
     "tableResultSettingsMap": {},
     "title": ""
    }
   },
   "outputs": [],
   "source": [
    "from graphein.protein.graphs import label_node_id\n",
    "\n",
    "\n",
    "def process_dataframe(df: pd.DataFrame, granularity=\"CA\") -> pd.DataFrame:\n",
    "    \"\"\"\n",
    "    Process a DataFrame of protein structure data to reduce ambiguity and simplify analysis.\n",
    "\n",
    "    This function performs the following steps:\n",
    "    1. Handles alternate locations for an atom, defaulting to keep the first one if multiple exist.\n",
    "    2. Assigns a unique node_id to each residue in the DataFrame, using a helper function label_node_id.\n",
    "    3. Filters the DataFrame based on specified granularity (defaults to 'CA' for alpha carbon).\n",
    "\n",
    "    Parameters\n",
    "    ----------\n",
    "    df : pd.DataFrame\n",
    "        The DataFrame containing protein structure data to process. It is expected to contain columns 'alt_loc' and 'atom_name'.\n",
    "\n",
    "    granularity : str, optional\n",
    "        The level of detail or perspective at which the DataFrame should be analyzed. Defaults to 'CA' (alpha carbon).\n",
    "    \"\"\"\n",
    "    # handle the case of alternative locations,\n",
    "    # if so default to the 1st one = A\n",
    "    if \"alt_loc\" in df.columns:\n",
    "        df[\"alt_loc\"] = df[\"alt_loc\"].replace(\"\", \"A\")\n",
    "        df = df.loc[(df[\"alt_loc\"] == \"A\")]\n",
    "    df = label_node_id(df, granularity)\n",
    "    df = df.loc[(df[\"atom_name\"] == granularity)]\n",
    "    return df"
   ]
  },
  {
   "cell_type": "code",
   "execution_count": 0,
   "metadata": {
    "application/vnd.databricks.v1+cell": {
     "cellMetadata": {
      "byteLimit": 2048000,
      "rowLimit": 10000
     },
     "inputWidgets": {},
     "nuid": "bf5578e9-2141-45b9-99d5-3d4275f1b005",
     "showTitle": false,
     "tableResultSettingsMap": {},
     "title": ""
    }
   },
   "outputs": [],
   "source": [
    "process_df = process_dataframe(df)\n",
    "print(process_df.shape)"
   ]
  },
  {
   "cell_type": "code",
   "execution_count": 0,
   "metadata": {
    "application/vnd.databricks.v1+cell": {
     "cellMetadata": {
      "byteLimit": 2048000,
      "rowLimit": 10000
     },
     "inputWidgets": {},
     "nuid": "df698042-7fc3-4ec4-922e-bd64ce6677c7",
     "showTitle": false,
     "tableResultSettingsMap": {},
     "title": ""
    }
   },
   "outputs": [],
   "source": [
    "from graphein.protein.graphs import initialise_graph_with_metadata\n",
    "\n",
    "g = initialise_graph_with_metadata(\n",
    "    protein_df=process_df,\n",
    "    raw_pdb_df=df,\n",
    "    pdb_code=\"3nir\",\n",
    "    granularity=\"CA\",\n",
    ")"
   ]
  },
  {
   "cell_type": "code",
   "execution_count": 0,
   "metadata": {
    "application/vnd.databricks.v1+cell": {
     "cellMetadata": {
      "byteLimit": 2048000,
      "rowLimit": 10000
     },
     "inputWidgets": {},
     "nuid": "05ac4712-5a35-4085-b0eb-be47e158d5a9",
     "showTitle": false,
     "tableResultSettingsMap": {},
     "title": ""
    }
   },
   "outputs": [],
   "source": [
    "from graphein.protein.graphs import add_nodes_to_graph\n",
    "\n",
    "g = add_nodes_to_graph(g)\n",
    "print(g.nodes)"
   ]
  },
  {
   "cell_type": "code",
   "execution_count": 0,
   "metadata": {
    "application/vnd.databricks.v1+cell": {
     "cellMetadata": {
      "byteLimit": 2048000,
      "rowLimit": 10000
     },
     "inputWidgets": {},
     "nuid": "75c0d409-819d-4247-b23a-771408427d7f",
     "showTitle": false,
     "tableResultSettingsMap": {},
     "title": ""
    }
   },
   "outputs": [],
   "source": [
    "import networkx as nx\n",
    "\n",
    "\n",
    "def add_backbone_edges(G: nx.Graph) -> nx.Graph:\n",
    "    # Iterate over every chain\n",
    "    for chain_id in G.graph[\"chain_ids\"]:\n",
    "        # Find chain residues\n",
    "        chain_residues = [\n",
    "            (n, v) for n, v in G.nodes(data=True) if v[\"chain_id\"] == chain_id\n",
    "        ]\n",
    "        # Iterate over every residue in chain\n",
    "        for i, residue in enumerate(chain_residues):\n",
    "            try:\n",
    "                # Checks not at chain terminus\n",
    "                if i == len(chain_residues) - 1:\n",
    "                    continue\n",
    "                # Asserts residues are on the same chain\n",
    "                cond_1 = residue[1][\"chain_id\"] == chain_residues[i + 1][1][\"chain_id\"]\n",
    "                # Asserts residue numbers are adjacent\n",
    "                cond_2 = (\n",
    "                    abs(\n",
    "                        residue[1][\"residue_number\"]\n",
    "                        - chain_residues[i + 1][1][\"residue_number\"]\n",
    "                    )\n",
    "                    == 1\n",
    "                )\n",
    "\n",
    "                # If this checks out, we add a peptide bond\n",
    "                if (cond_1) and (cond_2):\n",
    "                    # Adds \"peptide bond\" between current residue and the next\n",
    "                    if G.has_edge(i, i + 1):\n",
    "                        G.edges[i, i + 1][\"kind\"].add(\"backbone_bond\")\n",
    "                    else:\n",
    "                        G.add_edge(\n",
    "                            residue[0],\n",
    "                            chain_residues[i + 1][0],\n",
    "                            kind={\"backbone_bond\"},\n",
    "                        )\n",
    "            except IndexError as e:\n",
    "                print(e)\n",
    "    return G"
   ]
  },
  {
   "cell_type": "code",
   "execution_count": 0,
   "metadata": {
    "application/vnd.databricks.v1+cell": {
     "cellMetadata": {
      "byteLimit": 2048000,
      "rowLimit": 10000
     },
     "inputWidgets": {},
     "nuid": "04348991-b589-40cd-bebd-b629c0fb1186",
     "showTitle": false,
     "tableResultSettingsMap": {},
     "title": ""
    }
   },
   "outputs": [],
   "source": [
    "g = add_backbone_edges(g)\n",
    "print(len(g.edges()))"
   ]
  },
  {
   "cell_type": "code",
   "execution_count": 0,
   "metadata": {
    "application/vnd.databricks.v1+cell": {
     "cellMetadata": {
      "byteLimit": 2048000,
      "rowLimit": 10000
     },
     "inputWidgets": {},
     "nuid": "19215222-f124-4e40-93da-119296b8c857",
     "showTitle": false,
     "tableResultSettingsMap": {},
     "title": ""
    }
   },
   "outputs": [],
   "source": [
    "from graphein.protein.visualisation import plotly_protein_structure_graph\n",
    "\n",
    "p = plotly_protein_structure_graph(\n",
    "    g,\n",
    "    colour_edges_by=\"kind\",\n",
    "    colour_nodes_by=\"seq_position\",\n",
    "    label_node_ids=False,\n",
    "    plot_title=\"3NIR Backbone Protein Graph\",\n",
    "    node_size_multiplier=1,\n",
    ")\n",
    "p.show()"
   ]
  }
 ],
 "metadata": {
  "application/vnd.databricks.v1+notebook": {
   "computePreferences": null,
   "dashboards": [],
   "environmentMetadata": {
    "base_environment": "",
    "environment_version": "2"
   },
   "inputWidgetPreferences": null,
   "language": "python",
   "notebookMetadata": {
    "mostRecentlyExecutedCommandWithImplicitDF": {
     "commandId": 3070146489839332,
     "dataframes": [
      "_sqldf"
     ]
    },
    "pythonIndentUnit": 2
   },
   "notebookName": "evo2_nvidia_genoma",
   "widgets": {}
  },
  "language_info": {
   "name": "python"
  }
 },
 "nbformat": 4,
 "nbformat_minor": 0
}
