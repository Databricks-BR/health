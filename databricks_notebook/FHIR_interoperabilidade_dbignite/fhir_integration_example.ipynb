{
 "cells": [
  {
   "cell_type": "markdown",
   "metadata": {
    "application/vnd.databricks.v1+cell": {
     "cellMetadata": {},
     "inputWidgets": {},
     "nuid": "e619d024-c8ed-4cc6-8b64-015916637c7d",
     "showTitle": false,
     "tableResultSettingsMap": {},
     "title": ""
    }
   },
   "source": [
    "<img src=\"https://raw.githubusercontent.com/Databricks-BR/health/main/image/head_notebook.png\" width=\"1000px\">"
   ]
  },
  {
   "cell_type": "markdown",
   "metadata": {
    "application/vnd.databricks.v1+cell": {
     "cellMetadata": {},
     "inputWidgets": {},
     "nuid": "7ae8a4b1-41ff-4c31-9b6a-b0066eb24371",
     "showTitle": false,
     "tableResultSettingsMap": {},
     "title": ""
    }
   },
   "source": [
    "## Acelerando a interoperabilidade com Databricks"
   ]
  },
  {
   "cell_type": "markdown",
   "metadata": {
    "application/vnd.databricks.v1+cell": {
     "cellMetadata": {},
     "inputWidgets": {},
     "nuid": "bf26107b-c835-49cb-8601-176b4cd0caaf",
     "showTitle": false,
     "tableResultSettingsMap": {},
     "title": ""
    }
   },
   "source": [
    "<img src=\"https://raw.githubusercontent.com/QuentinAmbard/databricks-demo/main/hls/resources/dbinterop/hls-dbiginte-flow-0.png\" width=\"1000px\">"
   ]
  },
  {
   "cell_type": "markdown",
   "metadata": {
    "application/vnd.databricks.v1+cell": {
     "cellMetadata": {},
     "inputWidgets": {},
     "nuid": "18b2a014-9e93-4c15-b28d-bf3acef08428",
     "showTitle": false,
     "tableResultSettingsMap": {},
     "title": ""
    }
   },
   "source": [
    "##### Descrição e Objetivos\n",
    "\n",
    "Esta demonstração é uma versão resumida da solução **dbignite** para **integração de dados em formato FHIR**. O objetivo é desbloquear os bundles FHIR para análises, permitindo uma visão completa do paciente. Com a plataforma Databricks, é possível:\n",
    "\n",
    "* Automatizar a ingestão;\n",
    "* Atualizar dados incrementalmente;\n",
    "* Desnormalizar bundles para consultas interativas;\n",
    "* Preparar dados para análise e IA em escala.\n",
    "\n",
    "Para ver a solução completa, entre [aqui](https://databricks-industry-solutions.github.io/interop/#interop_1.html).\n",
    "\n",
    "##### Referências:\n",
    "\n",
    "* [Databricks - FHIR Solution Accelerator Site](https://www.databricks.com/solutions/accelerators/fhir)\n",
    "* [Databricks Industry Solutions - Interoperability (Interop)](https://databricks-industry-solutions.github.io/interop/#interop_1.html)\n",
    "* [GitHub - Databricks Industry Solutions - Interop](https://github.com/databricks-industry-solutions/interop)"
   ]
  },
  {
   "cell_type": "markdown",
   "metadata": {
    "application/vnd.databricks.v1+cell": {
     "cellMetadata": {},
     "inputWidgets": {},
     "nuid": "3b5945f8-345a-456a-b438-8409ea9b521d",
     "showTitle": false,
     "tableResultSettingsMap": {},
     "title": ""
    }
   },
   "source": [
    "##### Descrição do Cluster\n",
    "\n",
    "Esta demo pode ser executada utilizando Serverless ou um tipo de instância de sua pereferência."
   ]
  },
  {
   "cell_type": "code",
   "execution_count": 0,
   "metadata": {
    "application/vnd.databricks.v1+cell": {
     "cellMetadata": {
      "byteLimit": 2048000,
      "rowLimit": 10000
     },
     "inputWidgets": {},
     "nuid": "f9aee4fb-0221-4df1-be1c-97689972f087",
     "showTitle": true,
     "tableResultSettingsMap": {},
     "title": "Instala o DBIgnite"
    }
   },
   "outputs": [],
   "source": [
    "%pip install git+https://github.com/databrickslabs/dbignite.git"
   ]
  },
  {
   "cell_type": "markdown",
   "metadata": {
    "application/vnd.databricks.v1+cell": {
     "cellMetadata": {},
     "inputWidgets": {},
     "nuid": "57d486aa-08f1-459b-9541-8fe66fde9962",
     "showTitle": false,
     "tableResultSettingsMap": {},
     "title": ""
    }
   },
   "source": [
    "## Lendo dados FHIR (C-CDA Messages)"
   ]
  },
  {
   "cell_type": "code",
   "execution_count": 0,
   "metadata": {
    "application/vnd.databricks.v1+cell": {
     "cellMetadata": {
      "byteLimit": 2048000,
      "rowLimit": 10000
     },
     "inputWidgets": {},
     "nuid": "b5a7d682-a11d-45b4-82a1-1f7584e4ec42",
     "showTitle": true,
     "tableResultSettingsMap": {},
     "title": "Lendo dados sintéticos"
    }
   },
   "outputs": [],
   "source": [
    "from  dbignite.fhir_mapping_model import FhirSchemaModel\n",
    "from pyspark.sql.functions import *\n",
    "from pyspark.sql.types import * \n",
    "import uuid\n",
    "from dbignite.readers import read_from_directory\n",
    "\n",
    "sample_data = \"s3://hls-eng-data-public/data/synthea/fhir/fhir/*json\"\n",
    "\n",
    "# Leia dados de um diretório estático e analise-os usando a função entry()\n",
    "bundle = read_from_directory(sample_data)\n",
    "df = bundle.entry()"
   ]
  },
  {
   "cell_type": "code",
   "execution_count": 0,
   "metadata": {
    "application/vnd.databricks.v1+cell": {
     "cellMetadata": {
      "byteLimit": 2048000,
      "rowLimit": 10000
     },
     "inputWidgets": {},
     "nuid": "9b517ca1-53ee-42d1-96d6-2e3409676397",
     "showTitle": true,
     "tableResultSettingsMap": {},
     "title": "Exibe o schema"
    }
   },
   "outputs": [],
   "source": [
    "df.select(col(\"Patient\")).printSchema()"
   ]
  },
  {
   "cell_type": "markdown",
   "metadata": {
    "application/vnd.databricks.v1+cell": {
     "cellMetadata": {},
     "inputWidgets": {},
     "nuid": "d559b8d4-9ba9-4ea0-a7ae-d808e702ccb1",
     "showTitle": false,
     "tableResultSettingsMap": {},
     "title": ""
    }
   },
   "source": [
    "## ETL usando Dataframe API\n",
    "Trabalhando com dados de pacientes e gravando resultados em tabelas\n",
    "\n",
    "Nota: Os dados sintéticos utilizam o sistema de codificação SNOMED. Na área da saúde, os códigos aceitos são ICD10 PCS, ICD CM, CPT4, HCPCS."
   ]
  },
  {
   "cell_type": "markdown",
   "metadata": {
    "application/vnd.databricks.v1+cell": {
     "cellMetadata": {},
     "inputWidgets": {},
     "nuid": "e7cb4904-63c9-497d-9891-745896e2b5a6",
     "showTitle": false,
     "tableResultSettingsMap": {},
     "title": ""
    }
   },
   "source": [
    "### Conditions"
   ]
  },
  {
   "cell_type": "code",
   "execution_count": 0,
   "metadata": {
    "application/vnd.databricks.v1+cell": {
     "cellMetadata": {
      "byteLimit": 2048000,
      "rowLimit": 10000
     },
     "inputWidgets": {},
     "nuid": "5e979df6-aef4-4a80-be88-72b6c055d838",
     "showTitle": true,
     "tableResultSettingsMap": {},
     "title": "Dados sintéticos de condição do paciente"
    }
   },
   "outputs": [],
   "source": [
    "df.select(explode(\"Patient\").alias(\"Patient\"), col(\"bundleUUID\"), col(\"Condition\")).select(col(\"Patient\"), col(\"bundleUUID\"), explode(\"Condition\").alias(\"Condition\")).select(\n",
    "  col(\"bundleUUID\").alias(\"UNIQUE_FHIR_ID\"), \n",
    "  col(\"patient.id\").alias(\"Patient\"),\n",
    "  col(\"patient.birthDate\").alias(\"Birth_date\"),\n",
    "  col(\"Condition.clinicalStatus.coding.code\")[0].alias(\"clinical_status\"),\n",
    "  col(\"Condition.code.coding.code\")[0].alias(\"condition_code\"),\n",
    "  col(\"Condition.code.coding.system\")[0].alias(\"condition_type_code\"), \n",
    "  col(\"Condition.code.text\").alias(\"condition_description\"),\n",
    "  col(\"Condition.recordedDate\").alias(\"condition_date\") \n",
    ").filter(col(\"Patient\").like(\"efee780e%\") |  col(\"Patient\").like(\"1a5e6090%\")).display()\n",
    "# Selecionando 2 pacientes aqui. No entanto, se este fosse o mesmo paciente em pacotes FHIR separados, você estaria trabalhando com uma linha por pacote FHIR. Então, 2 pacientes em 2 pacotes FHIR = 2 linhas"
   ]
  },
  {
   "cell_type": "code",
   "execution_count": 0,
   "metadata": {
    "application/vnd.databricks.v1+cell": {
     "cellMetadata": {
      "byteLimit": 2048000,
      "rowLimit": 10000
     },
     "inputWidgets": {},
     "nuid": "84ba73d3-9169-4e6b-88ca-45948c962273",
     "showTitle": false,
     "tableResultSettingsMap": {},
     "title": ""
    }
   },
   "outputs": [],
   "source": [
    "# Primeiro, crie um catalógo com o nome 'demo_health', caso ainda não exista, ou outro nome de preferência\n",
    "# O comando a seguir cria o schema, caso ainda não exista\n",
    "spark.sql(\"CREATE SCHEMA IF NOT EXISTS demo_health.fhir_integration\")"
   ]
  },
  {
   "cell_type": "code",
   "execution_count": 0,
   "metadata": {
    "application/vnd.databricks.v1+cell": {
     "cellMetadata": {
      "byteLimit": 2048000,
      "rowLimit": 10000
     },
     "inputWidgets": {},
     "nuid": "16e26544-9b39-486c-9ce5-69ef31daf445",
     "showTitle": true,
     "tableResultSettingsMap": {},
     "title": "Salva as condições como tabela"
    }
   },
   "outputs": [],
   "source": [
    "df.select(explode(\"Patient\").alias(\"Patient\"), col(\"bundleUUID\"), col(\"Condition\")).select(col(\"Patient\"), col(\"bundleUUID\"), explode(\"Condition\").alias(\"Condition\")).select(\n",
    "  col(\"bundleUUID\").alias(\"UNIQUE_FHIR_ID\"), \n",
    "  col(\"patient.id\").alias(\"Patient\"),\n",
    "  col(\"patient.birthDate\").alias(\"Birth_date\"),\n",
    "  col(\"Condition.clinicalStatus.coding.code\")[0].alias(\"clinical_status\"),\n",
    "  col(\"Condition.code.coding.code\")[0].alias(\"condition_code\"),\n",
    "  col(\"Condition.code.coding.system\")[0].alias(\"condition_type_code\"), \n",
    "  col(\"Condition.code.text\").alias(\"condition_description\"),\n",
    "  col(\"Condition.recordedDate\").alias(\"condition_date\") \n",
    ").write.mode(\"overwrite\").saveAsTable(\"demo_health.fhir_integration.patient_conditions\")"
   ]
  },
  {
   "cell_type": "markdown",
   "metadata": {
    "application/vnd.databricks.v1+cell": {
     "cellMetadata": {},
     "inputWidgets": {},
     "nuid": "b9a260ac-a21d-4712-a5d7-ba0b4392a1a6",
     "showTitle": false,
     "tableResultSettingsMap": {},
     "title": ""
    }
   },
   "source": [
    "### Claims"
   ]
  },
  {
   "cell_type": "code",
   "execution_count": 0,
   "metadata": {
    "application/vnd.databricks.v1+cell": {
     "cellMetadata": {
      "byteLimit": 2048000,
      "rowLimit": 10000
     },
     "inputWidgets": {},
     "nuid": "892e51b2-4fce-40f4-b7c0-86abb3f82dce",
     "showTitle": true,
     "tableResultSettingsMap": {},
     "title": "Claim Detail Sample Data"
    }
   },
   "outputs": [],
   "source": [
    "\n",
    "df.select(explode(\"Patient\").alias(\"Patient\"), col(\"bundleUUID\"), col(\"Claim\")).select(col(\"Patient\"), col(\"bundleUUID\"), explode(\"Claim\").alias(\"Claim\")).select(\n",
    "  col(\"bundleUUID\").alias(\"UNIQUE_FHIR_ID\"), \n",
    "  col(\"patient.id\").alias(\"Patient\"),\n",
    "  col(\"claim.patient\").alias(\"claim_patient_id\"),\n",
    "  col(\"claim.id\").alias(\"claim_id\"),\n",
    "  col(\"patient.birthDate\").alias(\"Birth_date\"),\n",
    "  col(\"claim.type.coding.code\")[0].alias(\"claim_type_cd\"),\n",
    "  col(\"claim.insurance.coverage\")[0].alias(\"insurer\"),\n",
    "  col(\"claim.total.value\").alias(\"claim_billed_amount\"),\n",
    "  col(\"claim.item.productOrService.coding.display\").alias(\"prcdr_description\"),\n",
    "  col(\"claim.item.productOrService.coding.code\").alias(\"prcdr_cd\"),\n",
    "  col(\"claim.item.productOrService.coding.system\").alias(\"prcdr_coding_system\")\n",
    ").filter(col(\"Patient\").like(\"efee780e%\") |  col(\"Patient\").like(\"1a5e6090%\")).display()"
   ]
  },
  {
   "cell_type": "code",
   "execution_count": 0,
   "metadata": {
    "application/vnd.databricks.v1+cell": {
     "cellMetadata": {
      "byteLimit": 2048000,
      "rowLimit": 10000
     },
     "inputWidgets": {},
     "nuid": "3b73869e-5d98-4bc3-a8d0-598f6673fdb6",
     "showTitle": true,
     "tableResultSettingsMap": {},
     "title": "Save Claims as a Table"
    }
   },
   "outputs": [],
   "source": [
    "\n",
    "df.select(explode(\"Patient\").alias(\"Patient\"), col(\"bundleUUID\"), col(\"Claim\")).select(col(\"Patient\"), col(\"bundleUUID\"), explode(\"Claim\").alias(\"Claim\")).select(\n",
    "  col(\"bundleUUID\").alias(\"UNIQUE_FHIR_ID\"), \n",
    "  col(\"patient.id\").alias(\"Patient\"),\n",
    "  col(\"claim.patient\").alias(\"claim_patient_id\"),\n",
    "  col(\"claim.id\").alias(\"claim_id\"),\n",
    "  col(\"patient.birthDate\").alias(\"Birth_date\"),\n",
    "  col(\"claim.type.coding.code\")[0].alias(\"claim_type_cd\"),\n",
    "  col(\"claim.insurance.coverage\")[0].alias(\"insurer\"),\n",
    "  col(\"claim.total.value\").alias(\"claim_billed_amount\"),\n",
    "  col(\"claim.item.productOrService.coding.display\").alias(\"prcdr_description\"),\n",
    "  col(\"claim.item.productOrService.coding.code\").alias(\"prcdr_cd\"),\n",
    "  col(\"claim.item.productOrService.coding.system\").alias(\"prcdr_coding_system\")\n",
    ").write.mode(\"overwrite\").saveAsTable(\"demo_health.fhir_integration.patient_claims\")"
   ]
  },
  {
   "cell_type": "markdown",
   "metadata": {
    "application/vnd.databricks.v1+cell": {
     "cellMetadata": {},
     "inputWidgets": {},
     "nuid": "f98e5f9b-982f-4664-b3be-5cb3760b627a",
     "showTitle": false,
     "tableResultSettingsMap": {},
     "title": ""
    }
   },
   "source": [
    "## Medications\n",
    "\n",
    "Nota: O conjunto de dados sintético não segue os padrões FHIR. Na próxima célula, estendemos nosso esquema para suportar essa estrutura não padrão."
   ]
  },
  {
   "cell_type": "code",
   "execution_count": 0,
   "metadata": {
    "application/vnd.databricks.v1+cell": {
     "cellMetadata": {
      "byteLimit": 2048000,
      "rowLimit": 10000
     },
     "inputWidgets": {},
     "nuid": "7ec7dafa-22f2-4f12-8e72-e85f4deff6ef",
     "showTitle": false,
     "tableResultSettingsMap": {},
     "title": ""
    }
   },
   "outputs": [],
   "source": [
    "\n",
    "med_schema = df.select(explode(\"MedicationRequest\").alias(\"MedicationRequest\")).schema\n",
    "# Adicione o esquema medicationCodeableConcept\n",
    "medCodeableConcept = StructField(\"medicationCodeableConcept\", StructType([\n",
    "              StructField(\"text\",StringType()),\n",
    "              StructField(\"coding\", ArrayType(\n",
    "                StructType([\n",
    "                    StructField(\"code\", StringType()),\n",
    "                    StructField(\"display\", StringType()),\n",
    "                    StructField(\"system\", StringType()),\n",
    "                ])\n",
    "              ))\n",
    "    ]))\n",
    "\n",
    "# Adicione StructField um nível abaixo de MedicationRequest\n",
    "med_schema.fields[0].dataType.add(medCodeableConcept)"
   ]
  },
  {
   "cell_type": "code",
   "execution_count": 0,
   "metadata": {
    "application/vnd.databricks.v1+cell": {
     "cellMetadata": {
      "byteLimit": 2048000,
      "rowLimit": 10000
     },
     "inputWidgets": {},
     "nuid": "296414f2-cd8b-4438-bb6e-c1220f9acf82",
     "showTitle": false,
     "tableResultSettingsMap": {},
     "title": ""
    }
   },
   "outputs": [],
   "source": [
    "# Reconstrua o objeto de esquema com o esquema de Medicação atualizado\n",
    "old_schemas = {k:v for (k,v) in FhirSchemaModel().fhir_resource_map.items() if k != 'MedicationRequest'}\n",
    "new_schemas = {**old_schemas, **{'MedicationRequest': med_schema.fields[0].dataType} }\n",
    "\n",
    "# Releia os dados\n",
    "bundle = read_from_directory(sample_data)\n",
    "df = bundle.entry(schemas = FhirSchemaModel(fhir_resource_map = new_schemas))"
   ]
  },
  {
   "cell_type": "code",
   "execution_count": 0,
   "metadata": {
    "application/vnd.databricks.v1+cell": {
     "cellMetadata": {
      "byteLimit": 2048000,
      "rowLimit": 10000
     },
     "inputWidgets": {},
     "nuid": "6a8230de-0ecc-48ea-991e-bb93cd491c5d",
     "showTitle": true,
     "tableResultSettingsMap": {},
     "title": "Show Medication Requests Data"
    }
   },
   "outputs": [],
   "source": [
    "df.select(explode(\"Patient\").alias(\"Patient\"), col(\"bundleUUID\"), col(\"MedicationRequest\")).select(col(\"Patient\"), col(\"bundleUUID\"), explode(col(\"MedicationRequest\")).alias(\"MedicationRequest\")).select(\n",
    "  col(\"bundleUUID\").alias(\"UNIQUE_FHIR_ID\"),\n",
    "  col(\"patient.id\").alias(\"Patient\"),\n",
    "  col(\"MedicationRequest.status\"),\n",
    "  col(\"MedicationRequest.intent\"),\n",
    "  col(\"MedicationRequest.authoredOn\"),\n",
    "  col(\"MedicationRequest.medicationCodeableConcept.text\").alias(\"rx_text\"),\n",
    "  col(\"MedicationRequest.medicationCodeableConcept.coding.code\")[0].alias(\"rx_code\"),\n",
    "  col(\"MedicationRequest.medicationCodeableConcept.coding.system\")[0].alias(\"code_type\")\n",
    ").filter(col(\"Patient\").like(\"efee780e%\") |  col(\"Patient\").like(\"1a5e6090%\")).display()"
   ]
  },
  {
   "cell_type": "code",
   "execution_count": 0,
   "metadata": {
    "application/vnd.databricks.v1+cell": {
     "cellMetadata": {
      "byteLimit": 2048000,
      "rowLimit": 10000
     },
     "inputWidgets": {},
     "nuid": "77f3e185-5b09-4139-880c-b903b90c2ef5",
     "showTitle": true,
     "tableResultSettingsMap": {},
     "title": "Save Medication Requests Data"
    }
   },
   "outputs": [],
   "source": [
    "df.select(explode(\"Patient\").alias(\"Patient\"), col(\"bundleUUID\"), col(\"MedicationRequest\")).select(col(\"Patient\"), col(\"bundleUUID\"), explode(col(\"MedicationRequest\")).alias(\"MedicationRequest\")).select(\n",
    "  col(\"bundleUUID\").alias(\"UNIQUE_FHIR_ID\"), \n",
    "  col(\"patient.id\").alias(\"Patient\"),\n",
    "  col(\"MedicationRequest.status\"),\n",
    "  col(\"MedicationRequest.intent\"),\n",
    "  col(\"MedicationRequest.authoredOn\"),\n",
    "  col(\"MedicationRequest.medicationCodeableConcept.text\").alias(\"rx_text\"),\n",
    "  col(\"MedicationRequest.medicationCodeableConcept.coding.code\")[0].alias(\"rx_code\"),\n",
    "  col(\"MedicationRequest.medicationCodeableConcept.coding.system\")[0].alias(\"code_type\")\n",
    ").write.mode(\"overwrite\").saveAsTable(\"demo_health.fhir_integration.medication_requests\")"
   ]
  },
  {
   "cell_type": "markdown",
   "metadata": {
    "application/vnd.databricks.v1+cell": {
     "cellMetadata": {},
     "inputWidgets": {},
     "nuid": "29899789-4ee5-4a8c-8669-e8a240866e98",
     "showTitle": false,
     "tableResultSettingsMap": {},
     "title": ""
    }
   },
   "source": [
    "## Providers"
   ]
  },
  {
   "cell_type": "code",
   "execution_count": 0,
   "metadata": {
    "application/vnd.databricks.v1+cell": {
     "cellMetadata": {
      "byteLimit": 2048000,
      "rowLimit": 10000
     },
     "inputWidgets": {},
     "nuid": "4fbb8c78-3778-4d9f-989b-f0993d731fd3",
     "showTitle": true,
     "tableResultSettingsMap": {},
     "title": "Show Provider Data"
    }
   },
   "outputs": [],
   "source": [
    "# Nota: os provedores podem ser qualquer um dos (Profissional, Organização, Função do profissional)\n",
    "# Para este exemplo, mostramos profissionais\n",
    "\n",
    "df.select(col(\"bundleUUID\"), col(\"Practitioner\")).select(col(\"bundleUUID\"), explode(\"Practitioner\").alias(\"Practitioner\")).select(\n",
    "  col(\"bundleUUID\").alias(\"UNIQUE_FHIR_ID\"), \n",
    "  col(\"practitioner.active\"),\n",
    "  col(\"practitioner.gender\"),\n",
    "  col(\"practitioner.telecom.system\")[0].alias(\"primary_contact_method\"),\n",
    "  col(\"practitioner.telecom.value\")[0].alias(\"primary_contact_value\"),\n",
    "  col(\"practitioner.telecom.use\")[0].alias(\"primary_use\")\n",
    ").display()"
   ]
  },
  {
   "cell_type": "code",
   "execution_count": 0,
   "metadata": {
    "application/vnd.databricks.v1+cell": {
     "cellMetadata": {
      "byteLimit": 2048000,
      "rowLimit": 10000
     },
     "inputWidgets": {},
     "nuid": "f8c25f9c-4581-4c68-8489-40214e544053",
     "showTitle": true,
     "tableResultSettingsMap": {},
     "title": "Save Provider Data"
    }
   },
   "outputs": [],
   "source": [
    "df.select(col(\"bundleUUID\"), col(\"Practitioner\")).select(col(\"bundleUUID\"), explode(\"Practitioner\").alias(\"Practitioner\")).select(\n",
    "  col(\"bundleUUID\").alias(\"UNIQUE_FHIR_ID\"), \n",
    "  col(\"practitioner.active\"),\n",
    "  col(\"practitioner.gender\"),\n",
    "  col(\"practitioner.telecom.system\")[0].alias(\"primary_contact_method\"),\n",
    "  col(\"practitioner.telecom.value\")[0].alias(\"primary_contact_value\"),\n",
    "  col(\"practitioner.telecom.use\")[0].alias(\"primary_use\")\n",
    ").write.mode(\"overwrite\").saveAsTable(\"demo_health.fhir_integration.providers_practitioners\")"
   ]
  },
  {
   "cell_type": "markdown",
   "metadata": {
    "application/vnd.databricks.v1+cell": {
     "cellMetadata": {},
     "inputWidgets": {},
     "nuid": "6af870c9-26bc-446a-bb77-df2ab1ecc6ff",
     "showTitle": false,
     "tableResultSettingsMap": {},
     "title": ""
    }
   },
   "source": [
    "# ETL Using SQL \n",
    "Escreva FHIR como está na tabela e use SQL para manipular"
   ]
  },
  {
   "cell_type": "code",
   "execution_count": 0,
   "metadata": {
    "application/vnd.databricks.v1+cell": {
     "cellMetadata": {
      "byteLimit": 2048000,
      "rowLimit": 10000
     },
     "inputWidgets": {},
     "nuid": "c3c1a14a-be08-4a6a-a498-0fafbfc57a61",
     "showTitle": false,
     "tableResultSettingsMap": {},
     "title": ""
    }
   },
   "outputs": [],
   "source": [
    "spark.sql(\"DROP TABLE IF EXISTS demo_health.fhir_integration.Patient\")\n",
    "spark.sql(\"DROP TABLE IF EXISTS demo_health.fhir_integration.Condition\")\n",
    "spark.sql(\"DROP TABLE IF EXISTS demo_health.fhir_integration.Claim\")\n",
    "spark.sql(\"DROP TABLE IF EXISTS demo_health.fhir_integration.MedicationRequest\")\n",
    "spark.sql(\"DROP TABLE IF EXISTS demo_health.fhir_integration.Practitioner\")\n",
    "\n",
    "bundle.bulk_table_write(location=\"demo_health.fhir_integration\" \n",
    "  ,write_mode=\"overwrite\"\n",
    "  ,columns=[\"Patient\", \"Condition\", \"Claim\", \"MedicationRequest\", \"Practitioner\"])"
   ]
  },
  {
   "cell_type": "markdown",
   "metadata": {
    "application/vnd.databricks.v1+cell": {
     "cellMetadata": {},
     "inputWidgets": {},
     "nuid": "d01c294d-94e9-4ce6-8f5a-50d44581ed60",
     "showTitle": false,
     "tableResultSettingsMap": {},
     "title": ""
    }
   },
   "source": [
    "## Conditions"
   ]
  },
  {
   "cell_type": "code",
   "execution_count": 0,
   "metadata": {
    "application/vnd.databricks.v1+cell": {
     "cellMetadata": {
      "byteLimit": 2048000,
      "implicitDf": true,
      "rowLimit": 10000
     },
     "inputWidgets": {},
     "nuid": "0d79c5f8-316a-4254-88bd-8677bc1b2682",
     "showTitle": true,
     "tableResultSettingsMap": {},
     "title": "Select Patient Condition Information"
    }
   },
   "outputs": [],
   "source": [
    "%sql\n",
    "select p.bundleUUID as UNIQUE_FHIR_ID, \n",
    "  p.Patient.id,\n",
    "  p.patient.birthDate,\n",
    "  c.Condition.clinicalStatus.coding.code[0] as clinical_status,\n",
    "  c.Condition.code.coding.code[0] as condition_code, \n",
    "  c.Condition.code.coding.system[0] as condition_type_code, \n",
    "  c.Condition.code.text as condition_description,\n",
    "  c.Condition.recordedDate condition_date\n",
    "from (select bundleUUID, explode(Patient) as patient from demo_health.fhir_integration.patient) p --all patient information\n",
    "  inner join (select bundleUUID, explode(condition) as condition from demo_health.fhir_integration.condition) c --all conditions from that patient \n",
    "    on p.bundleUUID = c.bundleUUID --Only show records that were bundled together \n"
   ]
  },
  {
   "cell_type": "markdown",
   "metadata": {
    "application/vnd.databricks.v1+cell": {
     "cellMetadata": {},
     "inputWidgets": {},
     "nuid": "00259664-07ba-4a29-af42-7522c2037ed8",
     "showTitle": false,
     "tableResultSettingsMap": {},
     "title": ""
    }
   },
   "source": [
    "## Claims"
   ]
  },
  {
   "cell_type": "code",
   "execution_count": 0,
   "metadata": {
    "application/vnd.databricks.v1+cell": {
     "cellMetadata": {
      "byteLimit": 2048000,
      "implicitDf": true,
      "rowLimit": 10000
     },
     "inputWidgets": {},
     "nuid": "9af5ebab-f85e-43ef-a976-d2ec3cc89337",
     "showTitle": true,
     "tableResultSettingsMap": {},
     "title": "Select Claims Information"
    }
   },
   "outputs": [],
   "source": [
    "%sql\n",
    "select p.bundleUUID as UNIQUE_FHIR_ID, \n",
    "  p.Patient.id as patient_id,\n",
    "  p.patient.birthDate,\n",
    "  c.claim.patient as claim_patient_id, \n",
    "  c.claim.id as claim_id,\n",
    "  c.claim.type.coding.code[0] as claim_type_cd, --837I = Institutional, 837P = Professional\n",
    "  c.claim.insurance.coverage[0],\n",
    "  c.claim.total.value as claim_billed_amount,\n",
    "  c.claim.item.productOrService.coding.display as procedure_description,\n",
    "  c.claim.item.productOrService.coding.code as procedure_code,\n",
    "  c.claim.item.productOrService.coding.system as procedure_coding_system\n",
    "from (select bundleUUID, explode(Patient) as patient from demo_health.fhir_integration.patient) p --all patient information\n",
    "  inner join (select bundleUUID, explode(claim) as claim from demo_health.fhir_integration.claim) c --all claim lines from that patient \n",
    "    on p.bundleUUID = c.bundleUUID --Only show records that were bundled together \n",
    "  limit 10"
   ]
  },
  {
   "cell_type": "markdown",
   "metadata": {
    "application/vnd.databricks.v1+cell": {
     "cellMetadata": {},
     "inputWidgets": {},
     "nuid": "bb0e2a5e-2416-4127-a7fc-341d1a3b01e1",
     "showTitle": false,
     "tableResultSettingsMap": {},
     "title": ""
    }
   },
   "source": [
    "## Medications"
   ]
  },
  {
   "cell_type": "code",
   "execution_count": 0,
   "metadata": {
    "application/vnd.databricks.v1+cell": {
     "cellMetadata": {
      "byteLimit": 2048000,
      "implicitDf": true,
      "rowLimit": 10000
     },
     "inputWidgets": {},
     "nuid": "09c023c4-a267-47c6-9bfb-16595c242ce6",
     "showTitle": false,
     "tableResultSettingsMap": {},
     "title": ""
    }
   },
   "outputs": [],
   "source": [
    "%sql\n",
    "select p.bundleUUID as UNIQUE_FHIR_ID, \n",
    "  p.Patient.id as patient_id,\n",
    "  p.patient.birthDate,\n",
    "  m.medication.intent,\n",
    "  m.medication.status,\n",
    "  m.medication.authoredOn as date_requested,\n",
    "  m.medication.requester as rx_requester,\n",
    "  --m.medication.medication --This is where medication should be, but looks like this isn't a compliant FHIR resource. \n",
    "                          --Upon further inspection the resource is located at the places below\n",
    "  \n",
    "  m.medication.medicationCodeableConcept.coding.code[0] as rx_code,\n",
    "  m.medication.medicationCodeableConcept.coding.system[0] as rx_code_type,\n",
    "  m.medication.medicationCodeableConcept.coding.display[0] as rx_description\n",
    "  from (select bundleUUID, explode(Patient) as patient from demo_health.fhir_integration.patient) p --all patient information\n",
    "  inner join (select bundleUUID, explode(MedicationRequest) as medication from demo_health.fhir_integration.MedicationRequest) m --all medication orders from that patient \n",
    "    on p.bundleUUID = m.bundleUUID --Only show records that were bundled together \n",
    "  limit 10"
   ]
  },
  {
   "cell_type": "markdown",
   "metadata": {
    "application/vnd.databricks.v1+cell": {
     "cellMetadata": {},
     "inputWidgets": {},
     "nuid": "1940d4db-a21d-4be1-809d-bdccddbb46b0",
     "showTitle": false,
     "tableResultSettingsMap": {},
     "title": ""
    }
   },
   "source": [
    "## Providers"
   ]
  },
  {
   "cell_type": "code",
   "execution_count": 0,
   "metadata": {
    "application/vnd.databricks.v1+cell": {
     "cellMetadata": {
      "byteLimit": 2048000,
      "implicitDf": true,
      "rowLimit": 10000
     },
     "inputWidgets": {},
     "nuid": "05aaf92c-645e-4b4a-903e-3ab05aa717c2",
     "showTitle": true,
     "tableResultSettingsMap": {},
     "title": "Show Provider Contact Information"
    }
   },
   "outputs": [],
   "source": [
    "%sql\n",
    "select p.bundleUUID as UNIQUE_FHIR_ID,\n",
    "  p.practitioner.id as provider_id,  --in this FHIR bundle, ID is the FK to other references in various resources (claim, careTeam, etc)\n",
    "  p.practitioner.active,\n",
    "  p.practitioner.gender,\n",
    "  p.practitioner.telecom.system[0] as primary_contact_method,\n",
    "  p.practitioner.telecom.value[0] as primary_contact_value,\n",
    "  p.practitioner.telecom.use[0] as primary_use\n",
    "from (select bundleUUID, explode(practitioner) as practitioner from demo_health.fhir_integration.Practitioner) as p\n",
    "limit 10\n"
   ]
  },
  {
   "cell_type": "code",
   "execution_count": 0,
   "metadata": {
    "application/vnd.databricks.v1+cell": {
     "cellMetadata": {
      "byteLimit": 2048000,
      "implicitDf": true,
      "rowLimit": 10000
     },
     "inputWidgets": {},
     "nuid": "e45dd5a4-62fb-4f1c-a8b1-231a7e419a7a",
     "showTitle": true,
     "tableResultSettingsMap": {},
     "title": "Associate Providers to a Claim Resource"
    }
   },
   "outputs": [],
   "source": [
    "%sql\n",
    "select p.bundleUUID as UNIQUE_FHIR_ID,\n",
    "  p.practitioner.id as provider_id,  --in this FHIR bundle, ID is the FK to other references in various resources (claim, careTeam, etc)\n",
    "  p.practitioner.active,\n",
    "  p.practitioner.gender,\n",
    "  p.practitioner.telecom.system[0] as primary_contact_method,\n",
    "  p.practitioner.telecom.value[0] as primary_contact_value,\n",
    "  p.practitioner.telecom.use[0] as primary_use,\n",
    "  c.*\n",
    "from (select bundleUUID, explode(practitioner) as practitioner from demo_health.fhir_integration.Practitioner) as p\n",
    "  inner join  (select claim.id as claim_id, \n",
    "                  substring(claim.provider, 82, 36) as provider_id, \n",
    "                    claim.type.coding.code[0] as claim_type_cd, --837I = Institutional, 837P = Professional\n",
    "                    claim.insurance.coverage[0] as insurance,\n",
    "                    claim.total.value as claim_billed_amount\n",
    "                  from (select explode(claim) as claim from demo_health.fhir_integration.claim)) as c\n",
    "  on c.provider_id = p.practitioner.id \n",
    "  limit 10;\n"
   ]
  },
  {
   "cell_type": "code",
   "execution_count": 0,
   "metadata": {
    "application/vnd.databricks.v1+cell": {
     "cellMetadata": {
      "byteLimit": 2048000,
      "implicitDf": true,
      "rowLimit": 10000
     },
     "inputWidgets": {},
     "nuid": "51e34071-e863-4536-b55b-63d96900539d",
     "showTitle": true,
     "tableResultSettingsMap": {},
     "title": "The above returned 0 records for practitioners, why? "
    }
   },
   "outputs": [],
   "source": [
    "%sql\n",
    "select claim.type.coding.code[0] as claim_type_cd, --837I = Institutional, 837P = Professional\n",
    "  count(1)\n",
    "from (select explode(claim) as claim from demo_health.fhir_integration.claim) as c\n",
    "group by 1 \n",
    "-- Only institutional and Rx claims present, no professional claims submitted\n",
    "limit 10"
   ]
  },
  {
   "cell_type": "markdown",
   "metadata": {
    "application/vnd.databricks.v1+cell": {
     "cellMetadata": {},
     "inputWidgets": {},
     "nuid": "39f70f3e-6351-4733-8847-d2aa85fb0b02",
     "showTitle": false,
     "tableResultSettingsMap": {},
     "title": ""
    }
   },
   "source": [
    "# Deduplicando FHIR Messages"
   ]
  },
  {
   "cell_type": "code",
   "execution_count": 0,
   "metadata": {
    "application/vnd.databricks.v1+cell": {
     "cellMetadata": {
      "byteLimit": 2048000,
      "rowLimit": 10000
     },
     "inputWidgets": {},
     "nuid": "6b466af9-faa8-4ece-bc61-7d2591b0c8ca",
     "showTitle": true,
     "tableResultSettingsMap": {},
     "title": "Reread same dataset as above"
    }
   },
   "outputs": [],
   "source": [
    "df = read_from_directory(sample_data).entry()"
   ]
  },
  {
   "cell_type": "code",
   "execution_count": 0,
   "metadata": {
    "application/vnd.databricks.v1+cell": {
     "cellMetadata": {
      "byteLimit": 2048000,
      "rowLimit": 10000
     },
     "inputWidgets": {},
     "nuid": "d90bfb75-98b5-4e5a-ae66-2fb7c7a20a70",
     "showTitle": true,
     "tableResultSettingsMap": {},
     "title": "Stage the new data to check for duplicate records"
    }
   },
   "outputs": [],
   "source": [
    "#claim & patient info\n",
    "df.select(col(\"bundleUUID\"), col(\"Patient\")).write.mode(\"overwrite\").saveAsTable(\"demo_health.fhir_integration.staging_patient\")\n",
    "df.select(col(\"bundleUUID\"), col(\"Claim\")).write.mode(\"overwrite\").saveAsTable(\"demo_health.fhir_integration.staging_claim\")"
   ]
  },
  {
   "cell_type": "markdown",
   "metadata": {
    "application/vnd.databricks.v1+cell": {
     "cellMetadata": {},
     "inputWidgets": {},
     "nuid": "1d250a77-e703-4b71-86e7-942fe6bad102",
     "showTitle": false,
     "tableResultSettingsMap": {},
     "title": ""
    }
   },
   "source": [
    "## Consulta de paciente para deduplicar registros"
   ]
  },
  {
   "cell_type": "code",
   "execution_count": 0,
   "metadata": {
    "application/vnd.databricks.v1+cell": {
     "cellMetadata": {
      "byteLimit": 2048000,
      "implicitDf": true,
      "rowLimit": 10000
     },
     "inputWidgets": {},
     "nuid": "e5b511d2-5492-427b-9779-f4d2a213f52e",
     "showTitle": false,
     "tableResultSettingsMap": {},
     "title": ""
    }
   },
   "outputs": [],
   "source": [
    "%sql\n",
    "--Lookup by patient_id \n",
    "select stg.bundleUUID as fhir_bundle_id_staging_\n",
    "  ,p.bundleUUID as fhir_bundle_id_pateint\n",
    "  ,stg.patient.id as patient_id\n",
    "  ,case when p.patient.id is not null then \"Y\" else \"N\" end as record_exists_flag\n",
    "from (select bundleUUID, explode(Patient) as patient from demo_health.fhir_integration.staging_patient) stg\n",
    "  left outer join (select bundleUUID, explode(Patient) as patient from demo_health.fhir_integration.patient) p \n",
    "    on stg.patient.id = p.patient.id \n",
    "limit 20;\n"
   ]
  },
  {
   "cell_type": "markdown",
   "metadata": {
    "application/vnd.databricks.v1+cell": {
     "cellMetadata": {},
     "inputWidgets": {},
     "nuid": "4a6f00c5-c21a-49ba-885e-84cf9d703033",
     "showTitle": false,
     "tableResultSettingsMap": {},
     "title": ""
    }
   },
   "source": [
    "## Consulta de sinistro para deduplicar registros"
   ]
  },
  {
   "cell_type": "code",
   "execution_count": 0,
   "metadata": {
    "application/vnd.databricks.v1+cell": {
     "cellMetadata": {
      "byteLimit": 2048000,
      "implicitDf": true,
      "rowLimit": 10000
     },
     "inputWidgets": {},
     "nuid": "fe563027-747c-4f61-baf3-5859707990ee",
     "showTitle": false,
     "tableResultSettingsMap": {},
     "title": ""
    }
   },
   "outputs": [],
   "source": [
    "%sql\n",
    "--Lookup by claim_id \n",
    "select stg.bundleUUID as fhir_bundle_id_staging_\n",
    "  ,c.bundleUUID as fhir_bundle_id_pateint\n",
    "  ,stg.claim.id as claim_id\n",
    "  ,case when c.claim.id is not null then \"Y\" else \"N\" end as record_exists_flag\n",
    "from  (select bundleUUID, explode(claim) as claim from demo_health.fhir_integration.staging_claim) stg\n",
    "  left outer join (select bundleUUID, explode(claim) as claim from demo_health.fhir_integration.claim) c\n",
    "    on stg.claim.id = c.claim.id \n",
    "limit 20;"
   ]
  },
  {
   "cell_type": "markdown",
   "metadata": {
    "application/vnd.databricks.v1+cell": {
     "cellMetadata": {},
     "inputWidgets": {},
     "nuid": "9de4f1d9-374a-42bf-b1a2-5db1da4593da",
     "showTitle": false,
     "tableResultSettingsMap": {},
     "title": ""
    }
   },
   "source": [
    "#### Para ver a solução completa, entre [aqui](https://databricks-industry-solutions.github.io/interop/#interop_1.html)."
   ]
  }
 ],
 "metadata": {
  "application/vnd.databricks.v1+notebook": {
   "computePreferences": null,
   "dashboards": [],
   "environmentMetadata": {
    "base_environment": "",
    "environment_version": "2"
   },
   "inputWidgetPreferences": null,
   "language": "python",
   "notebookMetadata": {
    "mostRecentlyExecutedCommandWithImplicitDF": {
     "commandId": 3070146489867568,
     "dataframes": [
      "_sqldf"
     ]
    },
    "pythonIndentUnit": 2
   },
   "notebookName": "fhir_integration_example",
   "widgets": {}
  },
  "language_info": {
   "name": "python"
  }
 },
 "nbformat": 4,
 "nbformat_minor": 0
}
