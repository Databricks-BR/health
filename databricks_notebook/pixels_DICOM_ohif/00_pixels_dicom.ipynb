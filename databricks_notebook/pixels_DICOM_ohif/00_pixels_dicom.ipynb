{
 "cells": [
  {
   "cell_type": "markdown",
   "metadata": {
    "application/vnd.databricks.v1+cell": {
     "cellMetadata": {},
     "inputWidgets": {},
     "nuid": "e293458b-77f8-4ffd-9442-1d77da96d37b",
     "showTitle": false,
     "tableResultSettingsMap": {},
     "title": ""
    }
   },
   "source": [
    "<img src=\"https://raw.githubusercontent.com/Databricks-BR/health/main/image/head_notebook.png\" width=\"1000px\">"
   ]
  },
  {
   "cell_type": "markdown",
   "metadata": {
    "application/vnd.databricks.v1+cell": {
     "cellMetadata": {},
     "inputWidgets": {},
     "nuid": "310e1fac-77be-4f38-9dde-b0dff55cbd2b",
     "showTitle": false,
     "tableResultSettingsMap": {},
     "title": ""
    }
   },
   "source": [
    "Você pode encontrar o código completo e atualizado para esse acelerador de soluções no link a seguir: https://github.com/databricks-industry-solutions/pixels."
   ]
  },
  {
   "cell_type": "markdown",
   "metadata": {
    "application/vnd.databricks.v1+cell": {
     "cellMetadata": {},
     "inputWidgets": {},
     "nuid": "1e70e1c8-814b-4c26-bd9e-7b9c3ba03942",
     "showTitle": false,
     "tableResultSettingsMap": {},
     "title": ""
    }
   },
   "source": [
    "<img src=\"https://raw.githubusercontent.com/Databricks-BR/health/main/image/logo_dicom.png\" width=\"250px\">\n",
    "\n",
    "# A análise de imagens DICOM deve ser simples\n",
    "<!-- -->\n",
    "&nbsp;\n",
    "- Catalogue todos os seus arquivos em paralelo e escale com Spark;\n",
    "- Spark SQL sobre Delta Lake permite análises rápidas dos metadados;\n",
    "- Transformers Python / pandas UDFs formam blocos de construção para:\n",
    "  - Extração de metadados e miniaturas;\n",
    "  - Utilização de pacotes e bibliotecas C++, como: `gdcm`, `python-gdcm` e `pydicom`;\n",
    "  - Composição e extensão simples para De-Identificação e Deep Learning.\n",
    "<!-- -->\n",
    "\n",
    "O acelerador de soluções `dbx.pixels` transforma imagens DICOM em dados SQL de forma simples."
   ]
  },
  {
   "cell_type": "markdown",
   "metadata": {
    "application/vnd.databricks.v1+cell": {
     "cellMetadata": {},
     "inputWidgets": {},
     "nuid": "3e840d86-bcb3-4b38-a4dd-088b4e6cabec",
     "showTitle": false,
     "tableResultSettingsMap": {},
     "title": ""
    }
   },
   "source": [
    "##### Descrição e Objetivos\n",
    "\n",
    "Este repositório contém algumas funcionalidades da solução **Pixels**, desenvolvida para facilitar o processamento e análise de imagens médicas no formato **DICOM**, como exames de Raio-X. O objetivo é demonstrar a integração e utilização de ferramentas modernas para manipulação de imagens médicas, apoiando profissionais da saúde em tarefas de visualização e processamento.\n",
    "\n",
    "Para acessar a solução completa, com o deploy de um app rodando o OHIF, utilização de MONAI Label e AI/BI Dashboard, visite o repositório oficial do projeto Pixels no GitHub e clone-o para o seu workspace Databricks.\n",
    "\n",
    "##### Referências:\n",
    "\n",
    "* [GitHub - Pixels](https://github.com/databricks-industry-solutions/pixels)\n",
    "* [GitHub - OHIF](https://github.com/OHIF/Viewers)\n",
    "* [GitHub - MONAI Label](https://github.com/Project-MONAI/MONAILabel)\n",
    "* [DICOM Standard Browser](https://dicom.innolitics.com/ciods)\n",
    "* [DICOM Library](https://www.dicomlibrary.com/dicom/dicom-tags/)"
   ]
  },
  {
   "cell_type": "markdown",
   "metadata": {
    "application/vnd.databricks.v1+cell": {
     "cellMetadata": {},
     "inputWidgets": {},
     "nuid": "5f802e7e-9695-4e59-8cb2-8ba6ba35b57e",
     "showTitle": false,
     "tableResultSettingsMap": {},
     "title": ""
    }
   },
   "source": [
    "#### DICOM Modality\n",
    "\n",
    "\n",
    "| Value | Description |\n",
    "| -- | -- |\n",
    "| CR | Computed Radiography (X-Ray) |\n",
    "| CT | Computed Tomography |\n",
    "| DX | Digital Radiography |\n",
    "| MG | Mammography |\n",
    "| MR | Magnetic Resonance |\n",
    "| NM | Nuclear Medicine | \n",
    "| PT | Positron emission tomography (PET) |\n",
    "| US | Ultrasound |\n",
    "| XA | X-Ray Angiography |\n",
    " \n",
    "\n",
    "\n"
   ]
  },
  {
   "cell_type": "markdown",
   "metadata": {
    "application/vnd.databricks.v1+cell": {
     "cellMetadata": {},
     "inputWidgets": {},
     "nuid": "342b2dde-82a2-4b14-b784-a892f4dfd77f",
     "showTitle": false,
     "tableResultSettingsMap": {},
     "title": ""
    }
   },
   "source": [
    "##### Descrição do Cluster\n",
    "\n",
    "Para rodar a demo (em DEV), utilizamos um single cluster com as seguintes configurações.\n",
    "\n",
    "| Versão do Databricks Runtime | Tipo de Instância |\n",
    "| --- | --- |\n",
    "| 14.3 LTS ML | i3.xlarge |"
   ]
  },
  {
   "cell_type": "markdown",
   "metadata": {
    "application/vnd.databricks.v1+cell": {
     "cellMetadata": {},
     "inputWidgets": {},
     "nuid": "0b310e83-5b04-49fe-8982-bf8c7ed9fdbb",
     "showTitle": false,
     "tableResultSettingsMap": {},
     "title": ""
    }
   },
   "source": [
    "\n",
    "\n",
    "Para aproveitar a solução completa, clone o repositório GitHub atualizado para o seu workspace: https://github.com/databricks-industry-solutions/pixels."
   ]
  }
 ],
 "metadata": {
  "application/vnd.databricks.v1+notebook": {
   "computePreferences": null,
   "dashboards": [],
   "environmentMetadata": {
    "base_environment": "",
    "environment_version": "2"
   },
   "inputWidgetPreferences": null,
   "language": "python",
   "notebookMetadata": {
    "pythonIndentUnit": 2
   },
   "notebookName": "00_pixels_dicom",
   "widgets": {}
  },
  "language_info": {
   "name": "python"
  }
 },
 "nbformat": 4,
 "nbformat_minor": 0
}
