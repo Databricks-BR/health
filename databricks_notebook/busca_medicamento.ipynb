{
 "cells": [
  {
   "cell_type": "markdown",
   "metadata": {
    "application/vnd.databricks.v1+cell": {
     "cellMetadata": {},
     "inputWidgets": {},
     "nuid": "589e4bdc-62cb-43d2-a4f3-e9a3f61eb7f2",
     "showTitle": false,
     "tableResultSettingsMap": {},
     "title": ""
    }
   },
   "source": [
    "<img src=\"https://raw.githubusercontent.com/Databricks-BR/health/main/image/head_notebook.png\" width=\"1000px\">"
   ]
  },
  {
   "cell_type": "markdown",
   "metadata": {
    "application/vnd.databricks.v1+cell": {
     "cellMetadata": {},
     "inputWidgets": {},
     "nuid": "5e3abef9-fda1-4382-9c01-6490300eb8f2",
     "showTitle": false,
     "tableResultSettingsMap": {},
     "title": ""
    }
   },
   "source": [
    "### Objetivo da Aplicação:\n",
    "Buscar um medicamento em uma drogaria / farmácia mais próxima da localização atual, pesquisando no controle de estoque da unidade a disponibilidade do medicamento e verificando, pelo horário atual e dia da semana, se tal farmácia encontra-se aberta.\n"
   ]
  },
  {
   "cell_type": "markdown",
   "metadata": {
    "application/vnd.databricks.v1+cell": {
     "cellMetadata": {},
     "inputWidgets": {},
     "nuid": "e99319b3-8912-4c7e-b193-ae9f04d2946d",
     "showTitle": false,
     "tableResultSettingsMap": {},
     "title": ""
    }
   },
   "source": [
    "### Bases de Dados FAKE para a DEMO\n",
    "\n",
    "- Importar o cadastro das Unidades (farmácias), com as informações de endereço e de geolocalização (lat,long)\n",
    "- No cadastro das Unidades precisa constar os horários de atendimento (e dias da semana que está aberta)\n",
    "- Importar o cadastro de estoque dos medicamentos por Unidade. Essa informação de estoque precisa estar o mais atualizado possível.   O Foco serão sempre os medicamentos de venda controlada, onde será necessário a compra presencial.\n"
   ]
  },
  {
   "cell_type": "markdown",
   "metadata": {
    "application/vnd.databricks.v1+cell": {
     "cellMetadata": {},
     "inputWidgets": {},
     "nuid": "ebc67b76-7f28-4339-b5c4-465bed59bf03",
     "showTitle": false,
     "tableResultSettingsMap": {},
     "title": ""
    }
   },
   "source": [
    "## CARGA DE DADOS"
   ]
  },
  {
   "cell_type": "code",
   "execution_count": 0,
   "metadata": {
    "application/vnd.databricks.v1+cell": {
     "cellMetadata": {
      "byteLimit": 2048000,
      "implicitDf": true,
      "rowLimit": 10000
     },
     "inputWidgets": {},
     "nuid": "8fd3beb4-d111-46a9-89c7-430f8e4bd5d7",
     "showTitle": false,
     "tableResultSettingsMap": {},
     "title": ""
    }
   },
   "outputs": [],
   "source": [
    "%sql\n",
    "use catalog luis_assuncao;\n",
    "\n",
    "create schema if not exists health;"
   ]
  },
  {
   "cell_type": "code",
   "execution_count": 0,
   "metadata": {
    "application/vnd.databricks.v1+cell": {
     "cellMetadata": {
      "byteLimit": 2048000,
      "rowLimit": 10000
     },
     "inputWidgets": {},
     "nuid": "951645bd-936a-4420-9351-470ee95e78b8",
     "showTitle": false,
     "tableResultSettingsMap": {},
     "title": ""
    }
   },
   "outputs": [],
   "source": [
    "%python\n",
    "import pandas as pd\n",
    "from pyspark.sql import SparkSession\n",
    "\n",
    "url = f\"https://raw.githubusercontent.com//Databricks-BR/health/main/dados/\"\n",
    "catalog_name = f\"luis_assuncao\"\n",
    "schema_name = f\"health\"\n",
    "prefix_table = f\"bronze\"\n",
    "\n"
   ]
  },
  {
   "cell_type": "code",
   "execution_count": 0,
   "metadata": {
    "application/vnd.databricks.v1+cell": {
     "cellMetadata": {
      "byteLimit": 2048000,
      "rowLimit": 10000
     },
     "inputWidgets": {},
     "nuid": "3e676020-f86f-4980-856b-022e3285f99c",
     "showTitle": true,
     "tableResultSettingsMap": {},
     "title": "Carrega Tabela FAKE do cadastro Drogarias"
    }
   },
   "outputs": [],
   "source": [
    "entity_name  = f\"drogarias\"\n",
    "\n",
    "table_name   = f\"{catalog_name}.{schema_name}.{prefix_table}_{entity_name}\"\n",
    "file_name = f\"{url}{entity_name}.csv\"\n",
    "\n",
    "df = pd.read_csv(file_name)                          # leitura arquivo CSV utilizando Dataframe Pandas\n",
    "s_df = spark.createDataFrame(df)                     # converte Dataframe Pandas em Spark Dataframe\n",
    "s_df.write.mode(\"overwrite\").saveAsTable(table_name) # grava o DataFrame na Tabela Delta"
   ]
  },
  {
   "cell_type": "code",
   "execution_count": 0,
   "metadata": {
    "application/vnd.databricks.v1+cell": {
     "cellMetadata": {
      "byteLimit": 2048000,
      "implicitDf": true,
      "rowLimit": 10000
     },
     "inputWidgets": {},
     "nuid": "d0a2293d-b7a4-4120-9325-19d85a391df1",
     "showTitle": false,
     "tableResultSettingsMap": {},
     "title": ""
    }
   },
   "outputs": [],
   "source": [
    "%sql\n",
    "\n",
    "select * from luis_assuncao.health.bronze_drogarias"
   ]
  },
  {
   "cell_type": "code",
   "execution_count": 0,
   "metadata": {
    "application/vnd.databricks.v1+cell": {
     "cellMetadata": {
      "byteLimit": 2048000,
      "rowLimit": 10000
     },
     "inputWidgets": {},
     "nuid": "a5c3ea51-4e36-4439-967c-874f75aef9f3",
     "showTitle": true,
     "tableResultSettingsMap": {},
     "title": "Carrega tabela FAKE do estoque medicamentos"
    }
   },
   "outputs": [],
   "source": [
    "entity_name  = f\"estoque\"\n",
    "\n",
    "table_name   = f\"{catalog_name}.{schema_name}.{prefix_table}_{entity_name}\"\n",
    "file_name = f\"{url}{entity_name}.csv\"\n",
    "\n",
    "df = pd.read_csv(file_name)                          # leitura arquivo CSV utilizando Dataframe Pandas\n",
    "s_df = spark.createDataFrame(df)                     # converte Dataframe Pandas em Spark Dataframe\n",
    "s_df.write.mode(\"overwrite\").saveAsTable(table_name) # grava o DataFrame na Tabela Delta"
   ]
  },
  {
   "cell_type": "code",
   "execution_count": 0,
   "metadata": {
    "application/vnd.databricks.v1+cell": {
     "cellMetadata": {
      "byteLimit": 2048000,
      "implicitDf": true,
      "rowLimit": 10000
     },
     "inputWidgets": {},
     "nuid": "c0446f7e-d76d-4e74-96e6-68cbe16ca307",
     "showTitle": false,
     "tableResultSettingsMap": {},
     "title": ""
    }
   },
   "outputs": [],
   "source": [
    "%sql\n",
    "\n",
    "select * from luis_assuncao.health.bronze_estoque"
   ]
  },
  {
   "cell_type": "markdown",
   "metadata": {
    "application/vnd.databricks.v1+cell": {
     "cellMetadata": {},
     "inputWidgets": {},
     "nuid": "8b49f403-6b4e-449c-ad62-426d246535a7",
     "showTitle": false,
     "tableResultSettingsMap": {},
     "title": ""
    }
   },
   "source": [
    "### Funções de Calculo da Posição Atual (GEOCODE)\n",
    "\n",
    "* https://docs.databricks.com/aws/en/sql/language-manual/sql-ref-h3-geospatial-functions-examples\n",
    "* https://pypi.org/project/geolocation-python\n",
    "* \n",
    "* https://discuss.streamlit.io/t/get-user-location-button/55605"
   ]
  },
  {
   "cell_type": "code",
   "execution_count": 0,
   "metadata": {
    "application/vnd.databricks.v1+cell": {
     "cellMetadata": {},
     "inputWidgets": {},
     "nuid": "ea8f07df-bea7-4864-810d-a76e08cb4536",
     "showTitle": false,
     "tableResultSettingsMap": {},
     "title": ""
    }
   },
   "outputs": [],
   "source": [
    "from geopy.geocoders import Nominatim\n",
    "\n",
    "      geolocator = Nominatim(user_agent=\"my_app\")\n",
    "      location = geolocator.geocode(\"Your Location\") # Replace with a specific location\n",
    "      print(location.latitude, location.longitude)"
   ]
  },
  {
   "cell_type": "markdown",
   "metadata": {
    "application/vnd.databricks.v1+cell": {
     "cellMetadata": {},
     "inputWidgets": {},
     "nuid": "cba43a08-b60a-4288-87dc-58b65d5d8448",
     "showTitle": false,
     "tableResultSettingsMap": {},
     "title": ""
    }
   },
   "source": [
    "### pra Gerar um LINK pro WAZE\n",
    "\n",
    "https://developers.google.com/waze/deeplinks?hl=pt-br\n",
    "\n",
    "\n",
    "\n",
    "https://waze.com/ul?q=66%20Acacia%20Avenue&ll=45.6906304,-120.810983&navigate=yes\n"
   ]
  }
 ],
 "metadata": {
  "application/vnd.databricks.v1+notebook": {
   "computePreferences": null,
   "dashboards": [],
   "environmentMetadata": {
    "base_environment": "",
    "environment_version": "2"
   },
   "inputWidgetPreferences": null,
   "language": "python",
   "notebookMetadata": {
    "mostRecentlyExecutedCommandWithImplicitDF": {
     "commandId": 3054820919611803,
     "dataframes": [
      "_sqldf"
     ]
    },
    "pythonIndentUnit": 2
   },
   "notebookName": "busca_medicamento",
   "widgets": {}
  },
  "language_info": {
   "name": "python"
  }
 },
 "nbformat": 4,
 "nbformat_minor": 0
}
